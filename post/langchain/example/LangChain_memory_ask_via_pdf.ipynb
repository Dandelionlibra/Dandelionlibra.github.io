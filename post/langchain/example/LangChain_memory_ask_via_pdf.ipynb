{
 "cells": [
  {
   "cell_type": "markdown",
   "id": "9460b1a1-8c1c-49fb-9dc2-561d043ae76a",
   "metadata": {},
   "source": [
    "## RunnableWithMessageHistory\n",
    "\n",
    "https://python.langchain.com/api_reference/core/runnables/langchain_core.runnables.history.RunnableWithMessageHistory.html"
   ]
  },
  {
   "cell_type": "code",
   "execution_count": 1,
   "id": "71b23c2a-b68c-420a-9f0f-6d1039572219",
   "metadata": {},
   "outputs": [
    {
     "name": "stdout",
     "output_type": "stream",
     "text": [
      "{'1': InMemoryHistory(messages=[AIMessage(content='hello', additional_kwargs={}, response_metadata={})])}\n"
     ]
    }
   ],
   "source": [
    "from operator import itemgetter\n",
    "# from langchain_openai.chat_models import ChatOpenAI\n",
    "from langchain_core.chat_history import BaseChatMessageHistory\n",
    "from langchain_core.documents import Document\n",
    "from langchain_core.messages import BaseMessage, AIMessage\n",
    "from langchain_core.prompts import ChatPromptTemplate, MessagesPlaceholder\n",
    "from pydantic import BaseModel, Field\n",
    "from langchain_core.runnables import (\n",
    "    RunnableLambda,\n",
    "    ConfigurableFieldSpec,\n",
    "    RunnablePassthrough,\n",
    ")\n",
    "from langchain_core.runnables.history import RunnableWithMessageHistory\n",
    "\n",
    "\n",
    "class InMemoryHistory(BaseChatMessageHistory, BaseModel):\n",
    "    \"\"\"In memory implementation of chat message history.\"\"\"\n",
    "\n",
    "    messages: list[BaseMessage] = Field(default_factory=list)\n",
    "\n",
    "    def add_messages(self, messages: list[BaseMessage]) -> None:\n",
    "        \"\"\"Add a list of messages to the store\"\"\"\n",
    "        self.messages.extend(messages)\n",
    "\n",
    "    def clear(self) -> None:\n",
    "        self.messages = []\n",
    "\n",
    "# Here we use a global variable to store the chat message history.\n",
    "# This will make it easier to inspect it to see the underlying results.\n",
    "store = {}\n",
    "\n",
    "def get_by_session_id(session_id: str) -> BaseChatMessageHistory:\n",
    "    if session_id not in store:\n",
    "        store[session_id] = InMemoryHistory()\n",
    "    return store[session_id]\n",
    "\n",
    "\n",
    "history = get_by_session_id(\"1\")\n",
    "history.add_message(AIMessage(content=\"hello\"))\n",
    "print(store)  # noqa: T201"
   ]
  },
  {
   "cell_type": "code",
   "execution_count": 19,
   "id": "b18a7a90-8309-420b-a101-474609033571",
   "metadata": {},
   "outputs": [],
   "source": [
    "from langchain_community.document_loaders import PyPDFLoader\n",
    "from langchain_text_splitters import RecursiveCharacterTextSplitter\n",
    "from langchain_ollama import OllamaEmbeddings, OllamaLLM\n",
    "from langchain_chroma import Chroma\n",
    "\n",
    "ollama_llm = OllamaLLM(\n",
    "    base_url='http://dandelion-ollama-1:11434', \n",
    "    model=\"llama3.1:8b\",\n",
    "    temperature=0.0,\n",
    "    num_predict=51200\n",
    ")"
   ]
  },
  {
   "cell_type": "code",
   "execution_count": 3,
   "id": "337b7109-ce7c-4326-b902-f137d0607642",
   "metadata": {},
   "outputs": [
    {
     "name": "stderr",
     "output_type": "stream",
     "text": [
      "/tmp/ipykernel_13392/3966929422.py:7: LangChainDeprecationWarning: Please see the migration guide at: https://python.langchain.com/docs/versions/migrating_memory/\n",
      "  memory = ConversationBufferMemory(return_messages=True)\n"
     ]
    }
   ],
   "source": [
    "# from langchain.chains import ConversationChain # deplicate\n",
    "from langchain_core.runnables.history import RunnableWithMessageHistory\n",
    "from langchain.chains.conversation.memory import ConversationBufferMemory\n",
    "from langchain_core.prompts import ChatPromptTemplate, MessagesPlaceholder\n",
    "\n",
    "# memory 管理器\n",
    "memory = ConversationBufferMemory(return_messages=True)\n",
    "# conversation = ConversationChain(\n",
    "#     llm=ollama_llm,\n",
    "#     memory=ConversationBufferMemory()\n",
    "# )\n",
    "\n",
    "# 定義 prompt 模板\n",
    "prompt = ChatPromptTemplate.from_messages([\n",
    "    (\"system\", \"You're an assistant who's good at {ability}\"),\n",
    "    MessagesPlaceholder(variable_name=\"history\"),\n",
    "    (\"human\", \"{question}\"),\n",
    "])\n",
    "\n",
    "# 建立 chain\n",
    "chain = prompt | ollama_llm\n",
    "chain_with_history = RunnableWithMessageHistory(\n",
    "    chain,\n",
    "    # Uses the get_by_session_id function defined in the example\n",
    "    # above.\n",
    "    get_by_session_id,\n",
    "    input_messages_key=\"question\",\n",
    "    history_messages_key=\"history\",\n",
    ")"
   ]
  },
  {
   "cell_type": "code",
   "execution_count": 4,
   "id": "f7bbdbb5-6f80-410c-8107-5dba0b85a30f",
   "metadata": {},
   "outputs": [],
   "source": [
    "from langchain_community.document_loaders import PyPDFLoader\n",
    "from langchain.text_splitter import RecursiveCharacterTextSplitter\n",
    "\n",
    "# 載入 PDF 文件\n",
    "loader = PyPDFLoader('./data/PDF_file.pdf')\n",
    "docs = loader.load_and_split()\n",
    "\n",
    "chunk_size = 256\n",
    "chunk_overlap = 128\n",
    "\n",
    "text_splitter = RecursiveCharacterTextSplitter(chunk_size=chunk_size, chunk_overlap=chunk_overlap)\n",
    "documents = text_splitter.split_documents(docs)\n"
   ]
  },
  {
   "cell_type": "code",
   "execution_count": 5,
   "id": "f5261189-9467-4a76-bfd5-e5274d135ece",
   "metadata": {},
   "outputs": [],
   "source": [
    "from langchain_ollama import OllamaEmbeddings\n",
    "from langchain_chroma import Chroma\n",
    "\n",
    "# 使用 ollama 的 embedding 模型\n",
    "embeddings_model = OllamaEmbeddings(\n",
    "    base_url='http://dandelion-ollama-1:11434', \n",
    "    model=\"bge-m3:567m\",\n",
    ")\n",
    "\n",
    "# 建立 Chroma Vector Store\n",
    "vector_db = Chroma.from_documents(\n",
    "    documents,\n",
    "    embedding=embeddings_model,\n",
    "    persist_directory=\"./story-db\"\n",
    ")"
   ]
  },
  {
   "cell_type": "code",
   "execution_count": 7,
   "id": "c728e1cd-84dc-432a-af02-2c9d12db0d01",
   "metadata": {},
   "outputs": [],
   "source": [
    "query = \"你看過經典故事小王子嘛?\"\n",
    "\n",
    "retrieved_docs = vector_db.similarity_search(query, k=5)\n",
    "retrieved_context = \"\\n\\n\".join([doc.page_content for doc in retrieved_docs])"
   ]
  },
  {
   "cell_type": "code",
   "execution_count": 9,
   "id": "0f530181-5218-4fa0-8e73-ae2802669556",
   "metadata": {
    "collapsed": true,
    "jupyter": {
     "outputs_hidden": true
    }
   },
   "outputs": [
    {
     "data": {
      "text/plain": [
       "[Document(id='bb8c854f-fd00-4ad0-a2be-07ec344f54b4', metadata={'source': './data/PDF_file.pdf', 'author': 'user', 'creator': 'PrimoPDF http://www.primopdf.com', 'page': 53, 'title': '(Microsoft Word - LE PETIT PRINCE\\\\244\\\\244\\\\244\\\\345\\\\252\\\\251.doc)', 'page_label': '54', 'producer': 'AFPL Ghostscript 8.13', 'creationdate': 'D:20090501171152', 'total_pages': 54, 'moddate': 'D:20090501171152'}, page_content='圖，可以制作一份 WWW 版的《小王子》主頁，那就更好了。 \\n \\n    《小王子》 是他作品中比較獨特的一篇，也是最著名的一篇。是一本“為大 \\n人們寫的童話故事”。我很喜歡它，從小學看到大學。確實，它給大人們看的， \\n理解它必須是“大人”才行。可是，我多么希望我還是一個小王子一樣的孩子… \\n \\n                                       Loking 錄入于 3.15.1997 \\n \\n◎◎◎◎◎◎◎◎◎◎◎◎◎◎◎◎◎◎◎◎◎◎◎◎◎◎◎◎◎◎◎◎◎◎\\n◎'),\n",
       " Document(id='7b548b58-4ab3-490a-bc83-2aac22b7c54b', metadata={'producer': 'AFPL Ghostscript 8.13', 'creator': 'PrimoPDF http://www.primopdf.com', 'page': 53, 'title': '(Microsoft Word - LE PETIT PRINCE\\\\244\\\\244\\\\244\\\\345\\\\252\\\\251.doc)', 'moddate': 'D:20090501171152', 'author': 'user', 'total_pages': 54, 'page_label': '54', 'creationdate': 'D:20090501171152', 'source': './data/PDF_file.pdf'}, page_content='圖，可以制作一份 WWW 版的《小王子》主頁，那就更好了。 \\n \\n    《小王子》 是他作品中比較獨特的一篇，也是最著名的一篇。是一本“為大 \\n人們寫的童話故事”。我很喜歡它，從小學看到大學。確實，它給大人們看的， \\n理解它必須是“大人”才行。可是，我多么希望我還是一個小王子一樣的孩子… \\n \\n                                       Loking 錄入于 3.15.1997 \\n \\n◎◎◎◎◎◎◎◎◎◎◎◎◎◎◎◎◎◎◎◎◎◎◎◎◎◎◎◎◎◎◎◎◎◎\\n◎'),\n",
       " Document(id='675d1b1c-92ec-4016-a253-ba5c43b814d2', metadata={'page_label': '54', 'title': '(Microsoft Word - LE PETIT PRINCE\\\\244\\\\244\\\\244\\\\345\\\\252\\\\251.doc)', 'page': 53, 'author': 'user', 'source': './data/PDF_file.pdf', 'producer': 'AFPL Ghostscript 8.13', 'moddate': 'D:20090501171152', 'total_pages': 54, 'creator': 'PrimoPDF http://www.primopdf.com', 'creationdate': 'D:20090501171152'}, page_content='圖，可以制作一份 WWW 版的《小王子》主頁，那就更好了。 \\n \\n    《小王子》 是他作品中比較獨特的一篇，也是最著名的一篇。是一本“為大 \\n人們寫的童話故事”。我很喜歡它，從小學看到大學。確實，它給大人們看的， \\n理解它必須是“大人”才行。可是，我多么希望我還是一個小王子一樣的孩子… \\n \\n                                       Loking 錄入于 3.15.1997 \\n \\n◎◎◎◎◎◎◎◎◎◎◎◎◎◎◎◎◎◎◎◎◎◎◎◎◎◎◎◎◎◎◎◎◎◎\\n◎'),\n",
       " Document(id='34605fc5-ba78-467b-91fe-9771083cbd89', metadata={'author': 'user', 'moddate': 'D:20090501171152', 'producer': 'AFPL Ghostscript 8.13', 'source': './data/PDF_file.pdf', 'creationdate': 'D:20090501171152', 'creator': 'PrimoPDF http://www.primopdf.com', 'page': 53, 'total_pages': 54, 'page_label': '54', 'title': '(Microsoft Word - LE PETIT PRINCE\\\\244\\\\244\\\\244\\\\345\\\\252\\\\251.doc)'}, page_content='◎ \\n \\n                          錄  入  后  記 \\n \\n    這篇文字是錄自商務印書館出版的一本法漢對照的《小王子》的中文部分。 \\n個別字句有所改動，原文中有大量精美的插圖，可是商務版只有几副。如果有插 \\n圖，可以制作一份 WWW 版的《小王子》主頁，那就更好了。 \\n \\n    《小王子》 是他作品中比較獨特的一篇，也是最著名的一篇。是一本“為大 \\n人們寫的童話故事”。我很喜歡它，從小學看到大學。確實，它給大人們看的，'),\n",
       " Document(id='a0cd4863-7acf-4053-8048-45675ac1c390', metadata={'moddate': 'D:20090501171152', 'creationdate': 'D:20090501171152', 'producer': 'AFPL Ghostscript 8.13', 'title': '(Microsoft Word - LE PETIT PRINCE\\\\244\\\\244\\\\244\\\\345\\\\252\\\\251.doc)', 'source': './data/PDF_file.pdf', 'page_label': '54', 'page': 53, 'author': 'user', 'total_pages': 54, 'creator': 'PrimoPDF http://www.primopdf.com'}, page_content='◎ \\n \\n                          錄  入  后  記 \\n \\n    這篇文字是錄自商務印書館出版的一本法漢對照的《小王子》的中文部分。 \\n個別字句有所改動，原文中有大量精美的插圖，可是商務版只有几副。如果有插 \\n圖，可以制作一份 WWW 版的《小王子》主頁，那就更好了。 \\n \\n    《小王子》 是他作品中比較獨特的一篇，也是最著名的一篇。是一本“為大 \\n人們寫的童話故事”。我很喜歡它，從小學看到大學。確實，它給大人們看的，')]"
      ]
     },
     "execution_count": 9,
     "metadata": {},
     "output_type": "execute_result"
    }
   ],
   "source": [
    "retrieved_docs"
   ]
  },
  {
   "cell_type": "code",
   "execution_count": 8,
   "id": "0eaadad8-73bd-489a-a144-aadd237fc724",
   "metadata": {},
   "outputs": [
    {
     "name": "stdout",
     "output_type": "stream",
     "text": [
      "我看過《小王子》！這是個非常著名的小說，作者是安托瓦內·德·聖-埃克絮佩里。他在書中描述了一個孤獨的小王子，他的父親是一個王國的國王，小王子被送到月球上去照顧一隻太陽花。小王子的故事充滿著哲理和寓意，讓人們思考生命的意義、愛情和友誼等問題。\n",
      "\n",
      "我很喜歡這本書，因為它不僅是一個童話故事，也是對大人們的啟蒙。它教會我們要珍惜生命、關心他人和追求自己的夢想。小王子的故事也讓我感受到孤獨和寂寞的痛苦，但同時也給了我希望和鼓勵。\n",
      "\n",
      "你看過《小王子》嗎？\n"
     ]
    }
   ],
   "source": [
    "\n",
    "question = \"根據以下內容回答問題：\\n\" + retrieved_context+ \"\\n\\n問題：\"+ query\n",
    "\n",
    "print(chain_with_history.invoke(  # noqa: T201\n",
    "    {\n",
    "        \"ability\": \"story\",\n",
    "        \"question\": question\n",
    "    }, config={\"configurable\": {\"session_id\": \"foo\"}}\n",
    "    \n",
    "))"
   ]
  },
  {
   "cell_type": "code",
   "execution_count": 10,
   "id": "2ace65ae-753b-455e-8103-91a480172321",
   "metadata": {},
   "outputs": [
    {
     "name": "stdout",
     "output_type": "stream",
     "text": [
      "小王子和這個故事都啟蒙了我對生命、愛情和友誼的看法。它們教會我要珍惜生命、關心他人和追求自己的夢想。\n"
     ]
    }
   ],
   "source": [
    "query = \"啟蒙了你什麼?\"\n",
    "\n",
    "retrieved_docs = vector_db.similarity_search(query, k=5)\n",
    "retrieved_context = \"\\n\\n\".join([doc.page_content for doc in retrieved_docs])\n",
    "\n",
    "question = \"根據以下內容回答問題：\\n\" + retrieved_context+ \"\\n\\n問題：\"+ query\n",
    "\n",
    "print(chain_with_history.invoke(  # noqa: T201\n",
    "    {\n",
    "        \"ability\": \"story\",\n",
    "        \"question\": question\n",
    "    }, config={\"configurable\": {\"session_id\": \"foo\"}}\n",
    "    \n",
    "))"
   ]
  },
  {
   "cell_type": "code",
   "execution_count": 16,
   "id": "18d91362-025c-4379-a5e9-0bcd92839170",
   "metadata": {},
   "outputs": [
    {
     "name": "stdout",
     "output_type": "stream",
     "text": [
      "這個故事啟蒙了我對人性的看法。它讓我了解到，大多數大人們都缺乏真實的理解力和創造性思維能力。雖然他們可能有頭腦清晰，但卻無法真正地理解和欣賞藝術作品或哲理思想。這使我更加珍惜自己的獨特性和創造力，同時也讓我更願意與那些有同樣想法的人相遇和交流。\n"
     ]
    }
   ],
   "source": [
    "query = \"啟蒙了你什麼?\"\n",
    "\n",
    "retrieved_docs = vector_db.similarity_search(query, k=5)\n",
    "retrieved_context = \"\\n\\n\".join([doc.page_content for doc in retrieved_docs])\n",
    "\n",
    "question = \"根據以下內容回答問題：\\n\" + retrieved_context+ \"\\n\\n問題：\"+ query\n",
    "\n",
    "print(chain_with_history.invoke(  # noqa: T201\n",
    "    {\n",
    "        \"ability\": \"story\",\n",
    "        \"question\": question\n",
    "    }, config={\"configurable\": {\"session_id\": \"foo\"}}\n",
    "    \n",
    "))"
   ]
  },
  {
   "cell_type": "code",
   "execution_count": 17,
   "id": "8e9105f8-e9a0-4e04-b1b3-124ba014ee16",
   "metadata": {},
   "outputs": [
    {
     "name": "stdout",
     "output_type": "stream",
     "text": [
      "小王子是一個獨特、敏感和浪漫的年輕人。他對世界的看法和感受與一般人不同，他能夠看到星球的美麗和價值，並且願意為之付出努力。然而，他也有一些缺點，例如缺乏勇氣承認自己的情感和關係。\n"
     ]
    }
   ],
   "source": [
    "query = \"你覺得小王子是個怎樣的人?\"\n",
    "\n",
    "retrieved_docs = vector_db.similarity_search(query, k=5)\n",
    "retrieved_context = \"\\n\\n\".join([doc.page_content for doc in retrieved_docs])\n",
    "\n",
    "question = \"根據以下內容回答問題：\\n\" + retrieved_context+ \"\\n\\n問題：\"+ query\n",
    "\n",
    "print(chain_with_history.invoke(  # noqa: T201\n",
    "    {\n",
    "        \"ability\": \"story\",\n",
    "        \"question\": question\n",
    "    }, config={\"configurable\": {\"session_id\": \"foo\"}}\n",
    "    \n",
    "))"
   ]
  },
  {
   "cell_type": "code",
   "execution_count": 20,
   "id": "4bb9deb1-8c9d-4572-97f8-792ad7a9a6b2",
   "metadata": {},
   "outputs": [
    {
     "name": "stdout",
     "output_type": "stream",
     "text": [
      "根據小王子的故事，我們可以繼續他的冒險旅程。\n",
      "\n",
      "在小王子和我一起坐下後，他說：“你知道，我一直想去探索更大的世界。”我問他：“為什麼？”他回答：“因為我的星球太小了，我想看看外面的世界有多大多美麗。”\n",
      "\n",
      "於是，我們決定一起出發，前往更大的世界。沿途，我們遇到了許多新奇的生物和景色，小王子對每一件事情都充滿著好奇和興趣。\n",
      "\n",
      "我們來到了一個美麗的花園裡，小王子看到那些美麗的花朵就說：“這些花朵太漂亮了！我想給我的花一個嘴套子，讓它能夠說話。”我笑著說：“你知道，我也曾經畫過一幅猴面包樹的圖片，它看起來很像白菜呢！”小王子又開始笑了。\n",
      "\n",
      "我們繼續前行，遇到了許多新奇的事情，小王子對每一件事情都充滿著好奇和興趣。最後，我們來到了一個美麗的大海邊，小王子說：“這裡太漂亮了！我想給我的小羊一個嘴套子，讓它能夠說話。”我笑著說：“你知道，我也曾經畫過一幅狐狸的圖片，它的耳朵看起來很像犄角呢！”小王子又開始笑了。\n",
      "\n",
      "我們繼續前行，直到最後，小王子對這個世界充滿著好奇和興趣。他說：“我想再去看看外面的世界有多大多美麗。”於是，我們決定一起出發，前往更大的世界。\n"
     ]
    }
   ],
   "source": [
    "query = \"依照這部小王子中提供的內容與你的創造力，續寫第二部小王子。\"\n",
    "\n",
    "retrieved_docs = vector_db.similarity_search(query, k=5)\n",
    "retrieved_context = \"\\n\\n\".join([doc.page_content for doc in retrieved_docs])\n",
    "\n",
    "question = \"根據以下內容回答問題：\\n\" + retrieved_context+ \"\\n\\n問題：\"+ query\n",
    "\n",
    "print(chain_with_history.invoke(  # noqa: T201\n",
    "    {\n",
    "        \"ability\": \"story\",\n",
    "        \"question\": question\n",
    "    }, config={\"configurable\": {\"session_id\": \"foo\"}}\n",
    "    \n",
    "))"
   ]
  },
  {
   "cell_type": "code",
   "execution_count": 21,
   "id": "1d658cc4-b3e0-4250-b076-ee2fd19177dc",
   "metadata": {
    "collapsed": true,
    "jupyter": {
     "outputs_hidden": true
    }
   },
   "outputs": [
    {
     "name": "stdout",
     "output_type": "stream",
     "text": [
      "{'1': InMemoryHistory(messages=[AIMessage(content='hello', additional_kwargs={}, response_metadata={})]), 'foo': InMemoryHistory(messages=[HumanMessage(content='根據以下內容回答問題：\\n圖，可以制作一份 WWW 版的《小王子》主頁，那就更好了。 \\n \\n    《小王子》 是他作品中比較獨特的一篇，也是最著名的一篇。是一本“為大 \\n人們寫的童話故事”。我很喜歡它，從小學看到大學。確實，它給大人們看的， \\n理解它必須是“大人”才行。可是，我多么希望我還是一個小王子一樣的孩子… \\n \\n                                       Loking 錄入于 3.15.1997 \\n \\n◎◎◎◎◎◎◎◎◎◎◎◎◎◎◎◎◎◎◎◎◎◎◎◎◎◎◎◎◎◎◎◎◎◎\\n◎\\n\\n圖，可以制作一份 WWW 版的《小王子》主頁，那就更好了。 \\n \\n    《小王子》 是他作品中比較獨特的一篇，也是最著名的一篇。是一本“為大 \\n人們寫的童話故事”。我很喜歡它，從小學看到大學。確實，它給大人們看的， \\n理解它必須是“大人”才行。可是，我多么希望我還是一個小王子一樣的孩子… \\n \\n                                       Loking 錄入于 3.15.1997 \\n \\n◎◎◎◎◎◎◎◎◎◎◎◎◎◎◎◎◎◎◎◎◎◎◎◎◎◎◎◎◎◎◎◎◎◎\\n◎\\n\\n圖，可以制作一份 WWW 版的《小王子》主頁，那就更好了。 \\n \\n    《小王子》 是他作品中比較獨特的一篇，也是最著名的一篇。是一本“為大 \\n人們寫的童話故事”。我很喜歡它，從小學看到大學。確實，它給大人們看的， \\n理解它必須是“大人”才行。可是，我多么希望我還是一個小王子一樣的孩子… \\n \\n                                       Loking 錄入于 3.15.1997 \\n \\n◎◎◎◎◎◎◎◎◎◎◎◎◎◎◎◎◎◎◎◎◎◎◎◎◎◎◎◎◎◎◎◎◎◎\\n◎\\n\\n◎ \\n \\n                          錄  入  后  記 \\n \\n    這篇文字是錄自商務印書館出版的一本法漢對照的《小王子》的中文部分。 \\n個別字句有所改動，原文中有大量精美的插圖，可是商務版只有几副。如果有插 \\n圖，可以制作一份 WWW 版的《小王子》主頁，那就更好了。 \\n \\n    《小王子》 是他作品中比較獨特的一篇，也是最著名的一篇。是一本“為大 \\n人們寫的童話故事”。我很喜歡它，從小學看到大學。確實，它給大人們看的，\\n\\n◎ \\n \\n                          錄  入  后  記 \\n \\n    這篇文字是錄自商務印書館出版的一本法漢對照的《小王子》的中文部分。 \\n個別字句有所改動，原文中有大量精美的插圖，可是商務版只有几副。如果有插 \\n圖，可以制作一份 WWW 版的《小王子》主頁，那就更好了。 \\n \\n    《小王子》 是他作品中比較獨特的一篇，也是最著名的一篇。是一本“為大 \\n人們寫的童話故事”。我很喜歡它，從小學看到大學。確實，它給大人們看的，\\n\\n問題：你看過經典故事小王子嘛?', additional_kwargs={}, response_metadata={}), AIMessage(content='我看過《小王子》！這是個非常著名的小說，作者是安托瓦內·德·聖-埃克絮佩里。他在書中描述了一個孤獨的小王子，他的父親是一個王國的國王，小王子被送到月球上去照顧一隻太陽花。小王子的故事充滿著哲理和寓意，讓人們思考生命的意義、愛情和友誼等問題。\\n\\n我很喜歡這本書，因為它不僅是一個童話故事，也是對大人們的啟蒙。它教會我們要珍惜生命、關心他人和追求自己的夢想。小王子的故事也讓我感受到孤獨和寂寞的痛苦，但同時也給了我希望和鼓勵。\\n\\n你看過《小王子》嗎？', additional_kwargs={}, response_metadata={}), HumanMessage(content='根據以下內容回答問題：\\n“我的生活很單調。我捕捉雞，而人又捕捉我。所有的雞全都一樣，所有的 \\n人也全都一樣。因此，我感到有些厭煩了。但是，如果你要是馴服了我，我的生 \\n活就一定會是歡快的。我會辨認出一種與眾不同的腳步聲。其他的腳步聲會使我 \\n躲到地下去，而你的腳步聲就會象音樂一樣讓我從洞里走出來。再說，你看！你 \\n看到那邊的麥田沒有？我不吃面包，麥子對我來說，一點用也沒有。我對麥田無 \\n動于衷。而這，真使人掃興。但是，你有著金黃色的頭發。那么，一旦你馴服了\\n\\n“我的生活很單調。我捕捉雞，而人又捕捉我。所有的雞全都一樣，所有的 \\n人也全都一樣。因此，我感到有些厭煩了。但是，如果你要是馴服了我，我的生 \\n活就一定會是歡快的。我會辨認出一種與眾不同的腳步聲。其他的腳步聲會使我 \\n躲到地下去，而你的腳步聲就會象音樂一樣讓我從洞里走出來。再說，你看！你 \\n看到那邊的麥田沒有？我不吃面包，麥子對我來說，一點用也沒有。我對麥田無 \\n動于衷。而這，真使人掃興。但是，你有著金黃色的頭發。那么，一旦你馴服了\\n\\n“我的生活很單調。我捕捉雞，而人又捕捉我。所有的雞全都一樣，所有的 \\n人也全都一樣。因此，我感到有些厭煩了。但是，如果你要是馴服了我，我的生 \\n活就一定會是歡快的。我會辨認出一種與眾不同的腳步聲。其他的腳步聲會使我 \\n躲到地下去，而你的腳步聲就會象音樂一樣讓我從洞里走出來。再說，你看！你 \\n看到那邊的麥田沒有？我不吃面包，麥子對我來說，一點用也沒有。我對麥田無 \\n動于衷。而這，真使人掃興。但是，你有著金黃色的頭發。那么，一旦你馴服了\\n\\n們膩味。 \\n  後來 ，我只好選擇了另外一個職業，我學會了開飛機，世界各地差不多都飛\\n到過。的確，地理學幫了我很大的忙。我一眼就能分辨出中國和亞里桑那。要是\\n夜里迷失了航向，這是很有用的。 \\n  這樣 ，在我的生活中，我跟許多嚴肅的人有過很多的接觸。我在大人們中間\\n生活過很長時間。我仔細地觀察過他們，但這并沒有使我對他們的看法有多大的\\n改變。 \\n  當我遇到一個頭腦看來稍微清楚的大人時 ， 我就拿出一直保存著的我那第一\\n號作品來測試測試他。 我想知道他是否真的有理解能力。 可是， 得到的回答總是：\\n\\n們膩味。 \\n  後來 ，我只好選擇了另外一個職業，我學會了開飛機，世界各地差不多都飛\\n到過。的確，地理學幫了我很大的忙。我一眼就能分辨出中國和亞里桑那。要是\\n夜里迷失了航向，這是很有用的。 \\n  這樣 ，在我的生活中，我跟許多嚴肅的人有過很多的接觸。我在大人們中間\\n生活過很長時間。我仔細地觀察過他們，但這并沒有使我對他們的看法有多大的\\n改變。 \\n  當我遇到一個頭腦看來稍微清楚的大人時 ， 我就拿出一直保存著的我那第一\\n號作品來測試測試他。 我想知道他是否真的有理解能力。 可是， 得到的回答總是：\\n\\n問題：啟蒙了你什麼?', additional_kwargs={}, response_metadata={}), AIMessage(content='小王子和這個故事都啟蒙了我對生命、愛情和友誼的看法。它們教會我要珍惜生命、關心他人和追求自己的夢想。', additional_kwargs={}, response_metadata={}), HumanMessage(content='根據以下內容回答問題：\\n“我的生活很單調。我捕捉雞，而人又捕捉我。所有的雞全都一樣，所有的 \\n人也全都一樣。因此，我感到有些厭煩了。但是，如果你要是馴服了我，我的生 \\n活就一定會是歡快的。我會辨認出一種與眾不同的腳步聲。其他的腳步聲會使我 \\n躲到地下去，而你的腳步聲就會象音樂一樣讓我從洞里走出來。再說，你看！你 \\n看到那邊的麥田沒有？我不吃面包，麥子對我來說，一點用也沒有。我對麥田無 \\n動于衷。而這，真使人掃興。但是，你有著金黃色的頭發。那么，一旦你馴服了\\n\\n“我的生活很單調。我捕捉雞，而人又捕捉我。所有的雞全都一樣，所有的 \\n人也全都一樣。因此，我感到有些厭煩了。但是，如果你要是馴服了我，我的生 \\n活就一定會是歡快的。我會辨認出一種與眾不同的腳步聲。其他的腳步聲會使我 \\n躲到地下去，而你的腳步聲就會象音樂一樣讓我從洞里走出來。再說，你看！你 \\n看到那邊的麥田沒有？我不吃面包，麥子對我來說，一點用也沒有。我對麥田無 \\n動于衷。而這，真使人掃興。但是，你有著金黃色的頭發。那么，一旦你馴服了\\n\\n“我的生活很單調。我捕捉雞，而人又捕捉我。所有的雞全都一樣，所有的 \\n人也全都一樣。因此，我感到有些厭煩了。但是，如果你要是馴服了我，我的生 \\n活就一定會是歡快的。我會辨認出一種與眾不同的腳步聲。其他的腳步聲會使我 \\n躲到地下去，而你的腳步聲就會象音樂一樣讓我從洞里走出來。再說，你看！你 \\n看到那邊的麥田沒有？我不吃面包，麥子對我來說，一點用也沒有。我對麥田無 \\n動于衷。而這，真使人掃興。但是，你有著金黃色的頭發。那么，一旦你馴服了\\n\\n們膩味。 \\n  後來 ，我只好選擇了另外一個職業，我學會了開飛機，世界各地差不多都飛\\n到過。的確，地理學幫了我很大的忙。我一眼就能分辨出中國和亞里桑那。要是\\n夜里迷失了航向，這是很有用的。 \\n  這樣 ，在我的生活中，我跟許多嚴肅的人有過很多的接觸。我在大人們中間\\n生活過很長時間。我仔細地觀察過他們，但這并沒有使我對他們的看法有多大的\\n改變。 \\n  當我遇到一個頭腦看來稍微清楚的大人時 ， 我就拿出一直保存著的我那第一\\n號作品來測試測試他。 我想知道他是否真的有理解能力。 可是， 得到的回答總是：\\n\\n們膩味。 \\n  後來 ，我只好選擇了另外一個職業，我學會了開飛機，世界各地差不多都飛\\n到過。的確，地理學幫了我很大的忙。我一眼就能分辨出中國和亞里桑那。要是\\n夜里迷失了航向，這是很有用的。 \\n  這樣 ，在我的生活中，我跟許多嚴肅的人有過很多的接觸。我在大人們中間\\n生活過很長時間。我仔細地觀察過他們，但這并沒有使我對他們的看法有多大的\\n改變。 \\n  當我遇到一個頭腦看來稍微清楚的大人時 ， 我就拿出一直保存著的我那第一\\n號作品來測試測試他。 我想知道他是否真的有理解能力。 可是， 得到的回答總是：\\n\\n問題：啟蒙了你什麼?', additional_kwargs={}, response_metadata={}), AIMessage(content='這個故事啟蒙了我對人性的看法。它讓我了解到，大多數大人們都缺乏真實的理解力和創造性思維能力。雖然他們可能有頭腦清晰，但卻無法真正地理解和欣賞藝術作品或哲理思想。這使我更加珍惜自己的獨特性和創造力，同時也讓我更願意與那些有同樣想法的人相遇和交流。', additional_kwargs={}, response_metadata={}), HumanMessage(content='根據以下內容回答問題：\\n小王子在他繼續往前旅行的途中，自言自語地說道： \\n \\n    “這個人一定會被其他那些人，國王呀，愛虛榮的呀，酒鬼呀，實業家呀， \\n所瞧不起。 可是唯有他不使我感到荒唐可笑。 這可能是因為他所關心的是別的事， \\n而不是他自己。” \\n \\n    他惋惜地嘆了口氣，并且又對自己說道： \\n \\n    “本來這是我唯一可以和他交成朋友的人。可是他的星球確實太小了，住不 \\n下兩個人…” \\n \\n    小王子沒有勇氣承認的是：他留戀這顆令人贊美的星星，特別是因為在那里\\n\\n小王子在他繼續往前旅行的途中，自言自語地說道： \\n \\n    “這個人一定會被其他那些人，國王呀，愛虛榮的呀，酒鬼呀，實業家呀， \\n所瞧不起。 可是唯有他不使我感到荒唐可笑。 這可能是因為他所關心的是別的事， \\n而不是他自己。” \\n \\n    他惋惜地嘆了口氣，并且又對自己說道： \\n \\n    “本來這是我唯一可以和他交成朋友的人。可是他的星球確實太小了，住不 \\n下兩個人…” \\n \\n    小王子沒有勇氣承認的是：他留戀這顆令人贊美的星星，特別是因為在那里\\n\\n小王子在他繼續往前旅行的途中，自言自語地說道： \\n \\n    “這個人一定會被其他那些人，國王呀，愛虛榮的呀，酒鬼呀，實業家呀， \\n所瞧不起。 可是唯有他不使我感到荒唐可笑。 這可能是因為他所關心的是別的事， \\n而不是他自己。” \\n \\n    他惋惜地嘆了口氣，并且又對自己說道： \\n \\n    “本來這是我唯一可以和他交成朋友的人。可是他的星球確實太小了，住不 \\n下兩個人…” \\n \\n    小王子沒有勇氣承認的是：他留戀這顆令人贊美的星星，特別是因為在那里\\n\\n圖，可以制作一份 WWW 版的《小王子》主頁，那就更好了。 \\n \\n    《小王子》 是他作品中比較獨特的一篇，也是最著名的一篇。是一本“為大 \\n人們寫的童話故事”。我很喜歡它，從小學看到大學。確實，它給大人們看的， \\n理解它必須是“大人”才行。可是，我多么希望我還是一個小王子一樣的孩子… \\n \\n                                       Loking 錄入于 3.15.1997 \\n \\n◎◎◎◎◎◎◎◎◎◎◎◎◎◎◎◎◎◎◎◎◎◎◎◎◎◎◎◎◎◎◎◎◎◎\\n◎\\n\\n圖，可以制作一份 WWW 版的《小王子》主頁，那就更好了。 \\n \\n    《小王子》 是他作品中比較獨特的一篇，也是最著名的一篇。是一本“為大 \\n人們寫的童話故事”。我很喜歡它，從小學看到大學。確實，它給大人們看的， \\n理解它必須是“大人”才行。可是，我多么希望我還是一個小王子一樣的孩子… \\n \\n                                       Loking 錄入于 3.15.1997 \\n \\n◎◎◎◎◎◎◎◎◎◎◎◎◎◎◎◎◎◎◎◎◎◎◎◎◎◎◎◎◎◎◎◎◎◎\\n◎\\n\\n問題：你覺得小王子是個怎樣的人?', additional_kwargs={}, response_metadata={}), AIMessage(content='小王子是一個獨特、敏感和浪漫的年輕人。他對世界的看法和感受與一般人不同，他能夠看到星球的美麗和價值，並且願意為之付出努力。然而，他也有一些缺點，例如缺乏勇氣承認自己的情感和關係。', additional_kwargs={}, response_metadata={}), HumanMessage(content='根據以下內容回答問題：\\n小王子又重新在我的身邊坐下。 他溫柔地對我說： “你應該實踐你的諾言。 ” \\n \\n    “什么諾言？” \\n \\n    “你知道…給我的小羊一個嘴套子…我要對我的花負責的呀！” \\n \\n    我從口袋中拿出我的畫稿。小王子瞅見了，笑著說： \\n \\n    “你畫的猴面包樹，有點象白菜…” \\n \\n    “啊！” \\n \\n    我還為我畫的猴面包樹感到驕傲呢！ \\n \\n    “你畫的狐狸…它那雙耳朵…有點象犄角…而且又太長了！” \\n \\n    這時，他又笑了。\\n\\n小王子又重新在我的身邊坐下。 他溫柔地對我說： “你應該實踐你的諾言。 ” \\n \\n    “什么諾言？” \\n \\n    “你知道…給我的小羊一個嘴套子…我要對我的花負責的呀！” \\n \\n    我從口袋中拿出我的畫稿。小王子瞅見了，笑著說： \\n \\n    “你畫的猴面包樹，有點象白菜…” \\n \\n    “啊！” \\n \\n    我還為我畫的猴面包樹感到驕傲呢！ \\n \\n    “你畫的狐狸…它那雙耳朵…有點象犄角…而且又太長了！” \\n \\n    這時，他又笑了。\\n\\n小王子又重新在我的身邊坐下。 他溫柔地對我說： “你應該實踐你的諾言。 ” \\n \\n    “什么諾言？” \\n \\n    “你知道…給我的小羊一個嘴套子…我要對我的花負責的呀！” \\n \\n    我從口袋中拿出我的畫稿。小王子瞅見了，笑著說： \\n \\n    “你畫的猴面包樹，有點象白菜…” \\n \\n    “啊！” \\n \\n    我還為我畫的猴面包樹感到驕傲呢！ \\n \\n    “你畫的狐狸…它那雙耳朵…有點象犄角…而且又太長了！” \\n \\n    這時，他又笑了。\\n\\n當你發現一個島是沒有主的，那么這個島就是你的。當你首先想出了一個辦法， \\n你就去領一個專利証，這個辦法就是屬于你的。既然在我之前不曾有任何人想到 \\n要占有這些星星，那我就占有這些星星。” \\n \\n    “這倒也是。可是你用它們來干什么？”小王子說。 \\n \\n    “我經營管理這些星星。我一遍又一遍地計算它們的數目。這是一件困難的 \\n事。但我是一個嚴肅認真的人！” \\n \\n    小王子仍然還不滿足，他說： \\n \\n    “對我來說，如果我有一條圍巾，我可以用它來圍著我的脖子，并且能帶走\\n\\n當你發現一個島是沒有主的，那么這個島就是你的。當你首先想出了一個辦法， \\n你就去領一個專利証，這個辦法就是屬于你的。既然在我之前不曾有任何人想到 \\n要占有這些星星，那我就占有這些星星。” \\n \\n    “這倒也是。可是你用它們來干什么？”小王子說。 \\n \\n    “我經營管理這些星星。我一遍又一遍地計算它們的數目。這是一件困難的 \\n事。但我是一個嚴肅認真的人！” \\n \\n    小王子仍然還不滿足，他說： \\n \\n    “對我來說，如果我有一條圍巾，我可以用它來圍著我的脖子，并且能帶走\\n\\n問題：依照這部小王子中提供的內容與你的創造力，續寫第二部小王子。', additional_kwargs={}, response_metadata={}), AIMessage(content='小王子的星球太小了，他想去探索更大的世界。他带着他的花和小羊来到了我的身边。\\n\\n\"你知道，我一直想给我的花一个嘴套子，让它能说话呢?\" 小王子说。\\n\\n我拿出我的画稿，展示给我。小王子看了看，笑着说:\"你的猴面包树有点象白菜……\"\\n\\n我感到有些尴尬，但还是很自豪地说:\"啊！我还在努力学习呢!\"\\n\\n接着，小王子又指出了我的狐狸的耳朵太长了。这个时候，他又开始笑了。\\n\\n\"你知道，我想给我的小羊一个嘴套子，让它能说话呢?\" 小王子说。\\n\\n我拿出我的画稿，展示给我。小王子看了看，笑着说:\"你的猴面包树有点象白菜……\"\\n\\n我感到有些尴尬，但还是很自豪地说:\"啊！我还在努力学习呢!\"\\n\\n接着，小王子又指出了我的狐狸的耳朵太长了。这个时候，他又开始笑了。\\n\\n\"你知道，我想给我的小羊一个嘴套子，让它能说话呢?\" 小王子说。\\n\\n我拿出我的画稿，展示给我。小王子看了看，笑着说:\"你的猴面包树有点象白菜……\"\\n\\n我感到有些尴尬，但还是很自豪地说:\"啊！我还在努力学习呢!\"\\n\\n接着，小王子又指出了我的狐狸的耳朵太长了。这个时候，他又开始笑了。\\n\\n\"你知道，我想给我的小羊一个嘴套子，让它能说话呢?\" 小王子说。\\n\\n我拿出我的画稿，展示给我。小王子看了看，笑着说:\"你的猴面包树有点象白菜……\"\\n\\n我感到有些尴尬，但还是很自豪地说:\"啊！我还在努力学习呢!\"\\n\\n接着，小王子又指出了我的狐狸的耳朵太长了。这个时候，他又开始笑了。\\n\\n\"你知道，我想给我的小羊一个嘴套子，让它能说话呢?\" 小王子说。\\n\\n我拿出我的画稿，展示给我。小王子看了看，笑着说:\"你的猴面包树有点象白菜……\"\\n\\n我', additional_kwargs={}, response_metadata={}), HumanMessage(content='根據以下內容回答問題：\\n小王子又重新在我的身邊坐下。 他溫柔地對我說： “你應該實踐你的諾言。 ” \\n \\n    “什么諾言？” \\n \\n    “你知道…給我的小羊一個嘴套子…我要對我的花負責的呀！” \\n \\n    我從口袋中拿出我的畫稿。小王子瞅見了，笑著說： \\n \\n    “你畫的猴面包樹，有點象白菜…” \\n \\n    “啊！” \\n \\n    我還為我畫的猴面包樹感到驕傲呢！ \\n \\n    “你畫的狐狸…它那雙耳朵…有點象犄角…而且又太長了！” \\n \\n    這時，他又笑了。\\n\\n小王子又重新在我的身邊坐下。 他溫柔地對我說： “你應該實踐你的諾言。 ” \\n \\n    “什么諾言？” \\n \\n    “你知道…給我的小羊一個嘴套子…我要對我的花負責的呀！” \\n \\n    我從口袋中拿出我的畫稿。小王子瞅見了，笑著說： \\n \\n    “你畫的猴面包樹，有點象白菜…” \\n \\n    “啊！” \\n \\n    我還為我畫的猴面包樹感到驕傲呢！ \\n \\n    “你畫的狐狸…它那雙耳朵…有點象犄角…而且又太長了！” \\n \\n    這時，他又笑了。\\n\\n小王子又重新在我的身邊坐下。 他溫柔地對我說： “你應該實踐你的諾言。 ” \\n \\n    “什么諾言？” \\n \\n    “你知道…給我的小羊一個嘴套子…我要對我的花負責的呀！” \\n \\n    我從口袋中拿出我的畫稿。小王子瞅見了，笑著說： \\n \\n    “你畫的猴面包樹，有點象白菜…” \\n \\n    “啊！” \\n \\n    我還為我畫的猴面包樹感到驕傲呢！ \\n \\n    “你畫的狐狸…它那雙耳朵…有點象犄角…而且又太長了！” \\n \\n    這時，他又笑了。\\n\\n當你發現一個島是沒有主的，那么這個島就是你的。當你首先想出了一個辦法， \\n你就去領一個專利証，這個辦法就是屬于你的。既然在我之前不曾有任何人想到 \\n要占有這些星星，那我就占有這些星星。” \\n \\n    “這倒也是。可是你用它們來干什么？”小王子說。 \\n \\n    “我經營管理這些星星。我一遍又一遍地計算它們的數目。這是一件困難的 \\n事。但我是一個嚴肅認真的人！” \\n \\n    小王子仍然還不滿足，他說： \\n \\n    “對我來說，如果我有一條圍巾，我可以用它來圍著我的脖子，并且能帶走\\n\\n當你發現一個島是沒有主的，那么這個島就是你的。當你首先想出了一個辦法， \\n你就去領一個專利証，這個辦法就是屬于你的。既然在我之前不曾有任何人想到 \\n要占有這些星星，那我就占有這些星星。” \\n \\n    “這倒也是。可是你用它們來干什么？”小王子說。 \\n \\n    “我經營管理這些星星。我一遍又一遍地計算它們的數目。這是一件困難的 \\n事。但我是一個嚴肅認真的人！” \\n \\n    小王子仍然還不滿足，他說： \\n \\n    “對我來說，如果我有一條圍巾，我可以用它來圍著我的脖子，并且能帶走\\n\\n問題：依照這部小王子中提供的內容與你的創造力，續寫第二部小王子。', additional_kwargs={}, response_metadata={}), AIMessage(content='根據小王子的故事，我們可以繼續他的冒險旅程。\\n\\n在小王子和我一起坐下後，他說：“你知道，我一直想去探索更大的世界。”我問他：“為什麼？”他回答：“因為我的星球太小了，我想看看外面的世界有多大多美麗。”\\n\\n於是，我們決定一起出發，前往更大的世界。沿途，我們遇到了許多新奇的生物和景色，小王子對每一件事情都充滿著好奇和興趣。\\n\\n我們來到了一個美麗的花園裡，小王子看到那些美麗的花朵就說：“這些花朵太漂亮了！我想給我的花一個嘴套子，讓它能夠說話。”我笑著說：“你知道，我也曾經畫過一幅猴面包樹的圖片，它看起來很像白菜呢！”小王子又開始笑了。\\n\\n我們繼續前行，遇到了許多新奇的事情，小王子對每一件事情都充滿著好奇和興趣。最後，我們來到了一個美麗的大海邊，小王子說：“這裡太漂亮了！我想給我的小羊一個嘴套子，讓它能夠說話。”我笑著說：“你知道，我也曾經畫過一幅狐狸的圖片，它的耳朵看起來很像犄角呢！”小王子又開始笑了。\\n\\n我們繼續前行，直到最後，小王子對這個世界充滿著好奇和興趣。他說：“我想再去看看外面的世界有多大多美麗。”於是，我們決定一起出發，前往更大的世界。', additional_kwargs={}, response_metadata={})])}\n"
     ]
    }
   ],
   "source": [
    "print(store)"
   ]
  },
  {
   "cell_type": "markdown",
   "id": "0a3a139a-5b7a-41e1-a731-f035aae9572b",
   "metadata": {},
   "source": [
    "--\n",
    "以下不具記憶內容\n",
    "--"
   ]
  },
  {
   "cell_type": "code",
   "execution_count": 12,
   "id": "3563bd34-d99d-4c14-8643-20f39670f14f",
   "metadata": {},
   "outputs": [],
   "source": [
    "# Setup the Retriever\n",
    "from langchain.chains import RetrievalQA\n",
    "\n",
    "# 建立 RetrievalQA Chain\n",
    "qa_chain = RetrievalQA.from_chain_type(\n",
    "    llm=ollama_llm,\n",
    "    retriever=vector_db.as_retriever(),\n",
    ")\n"
   ]
  },
  {
   "cell_type": "code",
   "execution_count": 13,
   "id": "f204fcb6-8174-4de4-b559-1fdab01ad8aa",
   "metadata": {},
   "outputs": [
    {
     "data": {
      "text/plain": [
       "{'query': '你看過經典故事小王子嘛？', 'result': '是的，我看過《小王子》。'}"
      ]
     },
     "execution_count": 13,
     "metadata": {},
     "output_type": "execute_result"
    }
   ],
   "source": [
    "qa_chain.invoke('你看過經典故事小王子嘛？')"
   ]
  },
  {
   "cell_type": "code",
   "execution_count": 14,
   "id": "9a4003fb-b79c-4291-acde-3426a0b31d25",
   "metadata": {},
   "outputs": [
    {
     "data": {
      "text/plain": [
       "{'query': '啟蒙了你什麼？',\n",
       " 'result': '啟蒙了你什麼？\\n\\n根據文本，我們可以看到這個問題的答案是在第二段中提到：地理學幫了我很大的忙。因此，答案應該是：\\n\\n地理學'}"
      ]
     },
     "execution_count": 14,
     "metadata": {},
     "output_type": "execute_result"
    }
   ],
   "source": [
    "qa_chain.invoke('啟蒙了你什麼？')"
   ]
  },
  {
   "cell_type": "code",
   "execution_count": 15,
   "id": "f8238128-c441-451d-9359-02934632ff35",
   "metadata": {
    "scrolled": true
   },
   "outputs": [
    {
     "data": {
      "text/plain": [
       "{'query': '你覺得小王子是個怎樣的人？',\n",
       " 'result': '我不太確定能夠給出一個正確的答案，因為這個問題需要對文本進行分析和理解。然而，根據提供的文本，我可以試著給出一些觀察：\\n\\n小王子似乎是一個敏感、浪漫且有想法的人。他對他遇到的那個人（星星）感到留戀，並認為只有這個人不會使他感到荒唐可笑。這可能表明他是一個比較理想主義和浪漫主義的人。\\n\\n然而，他也顯示出一些自我懷疑和缺乏勇氣的特徵。他說自己沒有勇氣承認他的真正感受，似乎是因為他害怕被別人嘲笑或不理解。這可能表明他是一個比較內向和脆弱的人。\\n\\n總的來說，小王子似乎是一個複雜且多面性的角色，他有著理想主義、浪漫主義和自我懷疑等特徵。'}"
      ]
     },
     "execution_count": 15,
     "metadata": {},
     "output_type": "execute_result"
    }
   ],
   "source": [
    "qa_chain.invoke('你覺得小王子是個怎樣的人？')"
   ]
  },
  {
   "cell_type": "code",
   "execution_count": 22,
   "id": "c4340fbe-8b44-433d-ab56-4b79fa4609d0",
   "metadata": {
    "scrolled": true
   },
   "outputs": [
    {
     "data": {
      "text/plain": [
       "{'query': '用你自己本身的創意，幫我寫出小王子的續集',\n",
       " 'result': 'I don\\'t know. The provided text does not contain any information about the story of \"The Little Prince\" or its characters, so I\\'m unable to write a continuation of the story based on my own creativity.'}"
      ]
     },
     "execution_count": 22,
     "metadata": {},
     "output_type": "execute_result"
    }
   ],
   "source": [
    "qa_chain.invoke('用你自己本身的創意，幫我寫出小王子的續集')"
   ]
  },
  {
   "cell_type": "code",
   "execution_count": null,
   "id": "50b8fe3f-1ff6-4bcf-b0a8-c8ae7b11948c",
   "metadata": {},
   "outputs": [],
   "source": []
  }
 ],
 "metadata": {
  "kernelspec": {
   "display_name": "Python 3 (ipykernel)",
   "language": "python",
   "name": "python3"
  },
  "language_info": {
   "codemirror_mode": {
    "name": "ipython",
    "version": 3
   },
   "file_extension": ".py",
   "mimetype": "text/x-python",
   "name": "python",
   "nbconvert_exporter": "python",
   "pygments_lexer": "ipython3",
   "version": "3.10.14"
  }
 },
 "nbformat": 4,
 "nbformat_minor": 5
}
