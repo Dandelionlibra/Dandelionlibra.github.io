{
 "cells": [
  {
   "cell_type": "code",
   "execution_count": 2,
   "id": "806ae535-2780-4b3b-a4b1-2fd16ffc7848",
   "metadata": {},
   "outputs": [],
   "source": [
    "from langchain_community.document_loaders import PyPDFLoader\n",
    "from langchain_text_splitters import RecursiveCharacterTextSplitter\n",
    "from langchain_ollama import OllamaEmbeddings\n",
    "from langchain_chroma import Chroma\n",
    "\n",
    "# 使用 ollama 的 embedding 模型\n",
    "embeddings_model = OllamaEmbeddings(\n",
    "    base_url='http://dandelion-ollama-1:11434', \n",
    "    model=\"bge-m3:567m\",\n",
    ")"
   ]
  },
  {
   "cell_type": "code",
   "execution_count": 3,
   "id": "5c8e4921-f0e4-4892-885c-6fb803f40f28",
   "metadata": {},
   "outputs": [],
   "source": [
    "# 載入 PDF 文件\n",
    "loader = PyPDFLoader('./data/PDF_file.pdf')\n",
    "docs = loader.load_and_split()\n",
    "\n",
    "chunk_size = 256\n",
    "chunk_overlap = 128\n",
    "\n",
    "text_splitter = RecursiveCharacterTextSplitter(chunk_size=chunk_size, chunk_overlap=chunk_overlap)\n",
    "documents = text_splitter.split_documents(docs)\n",
    "\n",
    "# 將文檔寫入 ChromaDB\n",
    "db = Chroma.from_documents(\n",
    "    documents,\n",
    "    embedding=embeddings_model,\n",
    "    persist_directory=\"./story-db\" # bge-m3:567m\n",
    ")"
   ]
  },
  {
   "cell_type": "code",
   "execution_count": 9,
   "id": "3563bd34-d99d-4c14-8643-20f39670f14f",
   "metadata": {},
   "outputs": [
    {
     "name": "stdout",
     "output_type": "stream",
     "text": [
      "\n",
      "回答: \n",
      "{'query': '玫瑰是誰？', 'result': '玫瑰是小王子的玫瑰花，還有園中其他五千朵玫瑰花（但小王子的玫瑰花是獨一無二的）。'}\n"
     ]
    }
   ],
   "source": [
    "# Setup the Retriever\n",
    "from langchain_ollama import OllamaLLM\n",
    "from langchain.chains import RetrievalQA\n",
    "\n",
    "ollama_llm = OllamaLLM(\n",
    "    base_url='http://dandelion-ollama-1:11434', \n",
    "    model=\"llama3.1:8b\",\n",
    "    temperature=0.0,\n",
    "    num_predict=512\n",
    ")\n",
    "\n",
    "# 建立 RetrievalQA Chain\n",
    "qa_chain = RetrievalQA.from_chain_type(\n",
    "    llm=ollama_llm,\n",
    "    retriever=db.as_retriever(),\n",
    ")\n",
    "\n",
    "# 提問\n",
    "query = \"玫瑰是誰？\"\n",
    "result = qa_chain.invoke(query)\n",
    "# print('提問:', query)\n",
    "print(\"\\n回答: \")\n",
    "print(result)"
   ]
  },
  {
   "cell_type": "code",
   "execution_count": 10,
   "id": "f204fcb6-8174-4de4-b559-1fdab01ad8aa",
   "metadata": {},
   "outputs": [
    {
     "data": {
      "text/plain": [
       "{'query': '最令你印象深刻的小王子的經歷是？',\n",
       " 'result': '最令我印象深刻的小王子的經歷是他無意中吐露的一些話逐漸使我搞清了他的來歷。'}"
      ]
     },
     "execution_count": 10,
     "metadata": {},
     "output_type": "execute_result"
    }
   ],
   "source": [
    "qa_chain.invoke('最令你印象深刻的小王子的經歷是？')"
   ]
  },
  {
   "cell_type": "code",
   "execution_count": 11,
   "id": "9a4003fb-b79c-4291-acde-3426a0b31d25",
   "metadata": {},
   "outputs": [
    {
     "data": {
      "text/plain": [
       "{'query': '小王子的來歷是什？', 'result': '小王子所來自的那個星球是小行星B612。'}"
      ]
     },
     "execution_count": 11,
     "metadata": {},
     "output_type": "execute_result"
    }
   ],
   "source": [
    "qa_chain.invoke('小王子的來歷是什？')"
   ]
  },
  {
   "cell_type": "code",
   "execution_count": 12,
   "id": "f4078804-ce6a-480a-8480-9d51b64cb5ee",
   "metadata": {},
   "outputs": [
    {
     "data": {
      "text/plain": [
       "{'query': '你是哪個模型？', 'result': '我不知道。'}"
      ]
     },
     "execution_count": 12,
     "metadata": {},
     "output_type": "execute_result"
    }
   ],
   "source": [
    "qa_chain.invoke('你是哪個模型？')"
   ]
  },
  {
   "cell_type": "code",
   "execution_count": 15,
   "id": "84677bd7-c358-4edb-8d34-8c24c7b0fa14",
   "metadata": {},
   "outputs": [
    {
     "data": {
      "text/plain": [
       "{'query': '誰喜歡喝酒？他出現在文章中哪裡？', 'result': '酒鬼。它出現在第十二段（XII）中。'}"
      ]
     },
     "execution_count": 15,
     "metadata": {},
     "output_type": "execute_result"
    }
   ],
   "source": [
    "qa_chain.invoke('誰喜歡喝酒？他出現在文章中哪裡？')"
   ]
  },
  {
   "cell_type": "code",
   "execution_count": 16,
   "id": "fc0d39f1-f543-4f17-a786-6354b7b8851a",
   "metadata": {},
   "outputs": [
    {
     "data": {
      "text/plain": [
       "{'query': '你覺得小王子是個怎樣的人？',\n",
       " 'result': '根據文中描述，小王子的性格可以看出來。他似乎是一個敏感、浪漫、獨立的年輕人。他對他所遇到的陌生人的評價很細致，能夠看穿別人的真實面目。他也顯示出對自由和自主的渴望。'}"
      ]
     },
     "execution_count": 16,
     "metadata": {},
     "output_type": "execute_result"
    }
   ],
   "source": [
    "qa_chain.invoke('你覺得小王子是個怎樣的人？')"
   ]
  },
  {
   "cell_type": "code",
   "execution_count": 17,
   "id": "82ec1206-6c0f-43a9-a973-d7152a0cffbc",
   "metadata": {},
   "outputs": [
    {
     "data": {
      "text/plain": [
       "{'query': '羊這個生物以怎樣的形式出現在文章中？為什出現？',\n",
       " 'result': '羊這個生物以畫的形式出現在文章中。它是小孩要求被描繪的東西，可能是因為小孩想學習畫畫或是對羊有特別的喜好。'}"
      ]
     },
     "execution_count": 17,
     "metadata": {},
     "output_type": "execute_result"
    }
   ],
   "source": [
    "qa_chain.invoke('羊這個生物以怎樣的形式出現在文章中？為什出現？')"
   ]
  },
  {
   "cell_type": "code",
   "execution_count": null,
   "id": "7137db2c-bf39-4667-b757-e9f27bb0bc38",
   "metadata": {},
   "outputs": [],
   "source": []
  },
  {
   "cell_type": "code",
   "execution_count": 18,
   "id": "3fd81567-b3b6-4617-ad0d-8a84480559dc",
   "metadata": {},
   "outputs": [],
   "source": [
    "# 顯示候選句\n",
    "qa_chain = RetrievalQA.from_chain_type(\n",
    "    llm=ollama_llm,\n",
    "    retriever=db.as_retriever(),\n",
    "    return_source_documents=True # show retrieve paragraphs\n",
    ")"
   ]
  },
  {
   "cell_type": "code",
   "execution_count": 19,
   "id": "f8238128-c441-451d-9359-02934632ff35",
   "metadata": {
    "scrolled": true
   },
   "outputs": [
    {
     "data": {
      "text/plain": [
       "{'query': '你覺得小王子是個怎樣的人？',\n",
       " 'result': '根據文中描述，小王子的性格可以看出來。他似乎是一個敏感、浪漫、獨立的年輕人。他對他所遇到的陌生人的評價很細致，能夠看穿別人的真實面目。他也顯示出對自由和自主的渴望。',\n",
       " 'source_documents': [Document(id='212ebbb1-477a-4948-9c73-bff49e753ed1', metadata={'creationdate': 'D:20090501171152', 'moddate': 'D:20090501171152', 'creator': 'PrimoPDF http://www.primopdf.com', 'author': 'user', 'page_label': '27', 'page': 26, 'producer': 'AFPL Ghostscript 8.13', 'source': './data/PDF_file.pdf', 'total_pages': 54, 'title': '(Microsoft Word - LE PETIT PRINCE\\\\244\\\\244\\\\244\\\\345\\\\252\\\\251.doc)'}, page_content='小王子在他繼續往前旅行的途中，自言自語地說道： \\n \\n    “這個人一定會被其他那些人，國王呀，愛虛榮的呀，酒鬼呀，實業家呀， \\n所瞧不起。 可是唯有他不使我感到荒唐可笑。 這可能是因為他所關心的是別的事， \\n而不是他自己。” \\n \\n    他惋惜地嘆了口氣，并且又對自己說道： \\n \\n    “本來這是我唯一可以和他交成朋友的人。可是他的星球確實太小了，住不 \\n下兩個人…” \\n \\n    小王子沒有勇氣承認的是：他留戀這顆令人贊美的星星，特別是因為在那里'),\n",
       "  Document(id='bb8c854f-fd00-4ad0-a2be-07ec344f54b4', metadata={'moddate': 'D:20090501171152', 'title': '(Microsoft Word - LE PETIT PRINCE\\\\244\\\\244\\\\244\\\\345\\\\252\\\\251.doc)', 'creationdate': 'D:20090501171152', 'total_pages': 54, 'producer': 'AFPL Ghostscript 8.13', 'page_label': '54', 'author': 'user', 'source': './data/PDF_file.pdf', 'creator': 'PrimoPDF http://www.primopdf.com', 'page': 53}, page_content='圖，可以制作一份 WWW 版的《小王子》主頁，那就更好了。 \\n \\n    《小王子》 是他作品中比較獨特的一篇，也是最著名的一篇。是一本“為大 \\n人們寫的童話故事”。我很喜歡它，從小學看到大學。確實，它給大人們看的， \\n理解它必須是“大人”才行。可是，我多么希望我還是一個小王子一樣的孩子… \\n \\n                                       Loking 錄入于 3.15.1997 \\n \\n◎◎◎◎◎◎◎◎◎◎◎◎◎◎◎◎◎◎◎◎◎◎◎◎◎◎◎◎◎◎◎◎◎◎\\n◎'),\n",
       "  Document(id='04220c5e-df03-4a0c-89ac-ea154ab67ee7', metadata={'source': './data/PDF_file.pdf', 'page': 52, 'creator': 'PrimoPDF http://www.primopdf.com', 'title': '(Microsoft Word - LE PETIT PRINCE\\\\244\\\\244\\\\244\\\\345\\\\252\\\\251.doc)', 'total_pages': 54, 'page_label': '53', 'creationdate': 'D:20090501171152', 'producer': 'AFPL Ghostscript 8.13', 'author': 'user', 'moddate': 'D:20090501171152'}, page_content='果這時，有個小孩子向你走來，如果他笑著，他有金黃色的頭發，如果當你問他 \\n問題時他不回答，你一定會猜得出他是誰。那就請你們幫個忙，不要讓我這么憂 \\n傷：趕快寫信告訴我，他又回來了… \\n \\n \\n                                                  「全文完」 \\n \\n \\n                       關于《小王子》的作者 \\n \\n    聖﹒德克旭貝里（Antoine de Saiot-Exupery ） ，1900 年出生于法國里昂，'),\n",
       "  Document(id='d4014edb-4e2a-4597-a1f3-3ba046e43180', metadata={'creator': 'PrimoPDF http://www.primopdf.com', 'author': 'user', 'creationdate': 'D:20090501171152', 'page': 6, 'total_pages': 54, 'title': '(Microsoft Word - LE PETIT PRINCE\\\\244\\\\244\\\\244\\\\345\\\\252\\\\251.doc)', 'producer': 'AFPL Ghostscript 8.13', 'page_label': '7', 'source': './data/PDF_file.pdf', 'moddate': 'D:20090501171152'}, page_content='羊。他想要一只小羊，這就証明他的存在。”他們一定會聳聳肩膀，把你當作孩 \\n子看待！但是，如果你對他們說：“小王子來自的星球就是小行星 B612 ”，那\\n么他們就十分信服，他們就不會提出一大堆問題來和你糾纏。他們就是這樣的。\\n小孩子們對大人們應該寬厚些，不要埋怨他們。 \\n \\n    當然，對我們懂得生活的人來說，我們才不在乎那些編號呢！我真愿意象講 \\n神話那樣來開始這個故事，我真想這樣說： \\n \\n    “從前呀，有一個小王子，他住在一個和他身體差不多大的星球上，他希望')]}"
      ]
     },
     "execution_count": 19,
     "metadata": {},
     "output_type": "execute_result"
    }
   ],
   "source": [
    "qa_chain.invoke('你覺得小王子是個怎樣的人？')"
   ]
  },
  {
   "cell_type": "code",
   "execution_count": 36,
   "id": "c4340fbe-8b44-433d-ab56-4b79fa4609d0",
   "metadata": {
    "collapsed": true,
    "jupyter": {
     "outputs_hidden": true
    },
    "scrolled": true
   },
   "outputs": [
    {
     "name": "stdout",
     "output_type": "stream",
     "text": [
      "I don't know. The text only mentions the author's request to help him find out if the little prince has returned, but it doesn't provide any information about writing a sequel to the story."
     ]
    },
    {
     "data": {
      "text/plain": [
       "{'query': '用你自己本身的創意，幫我寫出小王子的續集',\n",
       " 'result': \"I don't know. The text only mentions the author's request to help him find out if the little prince has returned, but it doesn't provide any information about writing a sequel to the story.\",\n",
       " 'source_documents': [Document(id='04220c5e-df03-4a0c-89ac-ea154ab67ee7', metadata={'total_pages': 54, 'author': 'user', 'creationdate': 'D:20090501171152', 'producer': 'AFPL Ghostscript 8.13', 'title': '(Microsoft Word - LE PETIT PRINCE\\\\244\\\\244\\\\244\\\\345\\\\252\\\\251.doc)', 'creator': 'PrimoPDF http://www.primopdf.com', 'moddate': 'D:20090501171152', 'page_label': '53', 'source': './data/PDF_file.pdf', 'page': 52}, page_content='果這時，有個小孩子向你走來，如果他笑著，他有金黃色的頭發，如果當你問他 \\n問題時他不回答，你一定會猜得出他是誰。那就請你們幫個忙，不要讓我這么憂 \\n傷：趕快寫信告訴我，他又回來了… \\n \\n \\n                                                  「全文完」 \\n \\n \\n                       關于《小王子》的作者 \\n \\n    聖﹒德克旭貝里（Antoine de Saiot-Exupery ） ，1900 年出生于法國里昂，'),\n",
       "  Document(id='34605fc5-ba78-467b-91fe-9771083cbd89', metadata={'creationdate': 'D:20090501171152', 'creator': 'PrimoPDF http://www.primopdf.com', 'page': 53, 'producer': 'AFPL Ghostscript 8.13', 'title': '(Microsoft Word - LE PETIT PRINCE\\\\244\\\\244\\\\244\\\\345\\\\252\\\\251.doc)', 'total_pages': 54, 'moddate': 'D:20090501171152', 'page_label': '54', 'source': './data/PDF_file.pdf', 'author': 'user'}, page_content='◎ \\n \\n                          錄  入  后  記 \\n \\n    這篇文字是錄自商務印書館出版的一本法漢對照的《小王子》的中文部分。 \\n個別字句有所改動，原文中有大量精美的插圖，可是商務版只有几副。如果有插 \\n圖，可以制作一份 WWW 版的《小王子》主頁，那就更好了。 \\n \\n    《小王子》 是他作品中比較獨特的一篇，也是最著名的一篇。是一本“為大 \\n人們寫的童話故事”。我很喜歡它，從小學看到大學。確實，它給大人們看的，'),\n",
       "  Document(id='ba1482c3-a17a-4d69-b834-079cb809b719', metadata={'producer': 'AFPL Ghostscript 8.13', 'total_pages': 54, 'creator': 'PrimoPDF http://www.primopdf.com', 'moddate': 'D:20090501171152', 'page': 52, 'creationdate': 'D:20090501171152', 'title': '(Microsoft Word - LE PETIT PRINCE\\\\244\\\\244\\\\244\\\\345\\\\252\\\\251.doc)', 'page_label': '53', 'author': 'user', 'source': './data/PDF_file.pdf'}, page_content='方。我再一次將它畫出來，為的是好讓你們看清楚。就是在這里，小王子出現在 \\n地球上，后來，也正是在這里消失了的。請你們仔細看看這個地方，以便你們有 \\n一天去非洲沙漠上旅行的時候，能夠准確地辨認出這個地方。如果，你們有機會 \\n經過這個地方，我請求你們不要匆匆而過，請你們就在那顆星星底下等一等！如 \\n果這時，有個小孩子向你走來，如果他笑著，他有金黃色的頭發，如果當你問他 \\n問題時他不回答，你一定會猜得出他是誰。那就請你們幫個忙，不要讓我這么憂 \\n傷：趕快寫信告訴我，他又回來了…'),\n",
       "  Document(id='bb8c854f-fd00-4ad0-a2be-07ec344f54b4', metadata={'page': 53, 'creationdate': 'D:20090501171152', 'page_label': '54', 'total_pages': 54, 'author': 'user', 'producer': 'AFPL Ghostscript 8.13', 'moddate': 'D:20090501171152', 'title': '(Microsoft Word - LE PETIT PRINCE\\\\244\\\\244\\\\244\\\\345\\\\252\\\\251.doc)', 'creator': 'PrimoPDF http://www.primopdf.com', 'source': './data/PDF_file.pdf'}, page_content='圖，可以制作一份 WWW 版的《小王子》主頁，那就更好了。 \\n \\n    《小王子》 是他作品中比較獨特的一篇，也是最著名的一篇。是一本“為大 \\n人們寫的童話故事”。我很喜歡它，從小學看到大學。確實，它給大人們看的， \\n理解它必須是“大人”才行。可是，我多么希望我還是一個小王子一樣的孩子… \\n \\n                                       Loking 錄入于 3.15.1997 \\n \\n◎◎◎◎◎◎◎◎◎◎◎◎◎◎◎◎◎◎◎◎◎◎◎◎◎◎◎◎◎◎◎◎◎◎\\n◎')]}"
      ]
     },
     "execution_count": 36,
     "metadata": {},
     "output_type": "execute_result"
    }
   ],
   "source": [
    "qa_chain.invoke('用你自己本身的創意，幫我寫出小王子的續集')"
   ]
  },
  {
   "cell_type": "code",
   "execution_count": 33,
   "id": "bb22a9cc-2d44-437c-befe-6d32879b4cec",
   "metadata": {},
   "outputs": [
    {
     "name": "stdout",
     "output_type": "stream",
     "text": [
      "\n",
      "問題：這個故事告訴我們什麼道理？\n",
      "\n",
      "\n",
      "回答：\n",
      "小孩子們對大人們應該寬厚些，不要埋怨他們。\n",
      " ----------------- all result -----------------\n",
      "檢索到的段落 (含相似度)：\n",
      "[1] 相似度: 0.7977\n",
      "有一天他告訴我說：“我不該聽信她的話，絕不該聽信那些花兒的話，看看 \n",
      "花，聞聞它就得了。我的那朵花使我的星球芳香四溢，可我不會享受它。關于老 \n",
      "虎爪子的事，本應該使我產生同情，卻反而使我惱火…” \n",
      " \n",
      "    他還告訴我說： \n",
      " \n",
      "    “我那時什么也不懂！我應該根據她的行為，而不是根據她的話來判斷她。 \n",
      "她使我的生活芬芳多彩，我真不該離開她跑出來。我本應該猜出在她那令人愛憐 \n",
      "的花招后面所隱藏...\n",
      "---\n",
      "[2] 相似度: 0.8469\n",
      "小孩子們對大人們應該寬厚些，不要埋怨他們。 \n",
      " \n",
      "    當然，對我們懂得生活的人來說，我們才不在乎那些編號呢！我真愿意象講 \n",
      "神話那樣來開始這個故事，我真想這樣說： \n",
      " \n",
      "    “從前呀，有一個小王子，他住在一個和他身體差不多大的星球上，他希望 \n",
      "有一個朋友…”對懂得生活的人來說，這樣說就顯得真實。 \n",
      " \n",
      "    我可不喜歡人們輕率地讀我的書。我在講述這些往事時心情是很難過的。我 \n",
      "的朋友帶著...\n",
      "---\n",
      "[3] 相似度: 0.8744\n",
      "羊。他想要一只小羊，這就証明他的存在。”他們一定會聳聳肩膀，把你當作孩 \n",
      "子看待！但是，如果你對他們說：“小王子來自的星球就是小行星 B612 ”，那\n",
      "么他們就十分信服，他們就不會提出一大堆問題來和你糾纏。他們就是這樣的。\n",
      "小孩子們對大人們應該寬厚些，不要埋怨他們。 \n",
      " \n",
      "    當然，對我們懂得生活的人來說，我們才不在乎那些編號呢！我真愿意象講 \n",
      "神話那樣來開始這個故事，我真想這樣說： \n",
      " \n",
      " ...\n",
      "---\n",
      "[4] 相似度: 0.8903\n",
      "家的口吻來說話，可是猴面包樹的危險，大家都不大了解，對迷失在小行星上的 \n",
      "人來說，危險性非常之大，因此這一回，我貿然打破了我的這種不喜歡教訓人的 \n",
      "慣例。我說：“孩子們，要當心那些猴面包樹呀！”為了叫我的朋友們警惕這種 \n",
      "危險──他們同我一樣長期以來和這種危險接觸， 卻沒有意識到它的危險性── \n",
      "我花了很大的功夫畫了這副畫。我提出的這個教訓意義是很重大的，花點功夫是 \n",
      "很值得的。你們也許要問，為什...\n",
      "---\n",
      "\n",
      "問題：根據你的記憶, 不要埋怨誰？\n",
      "\n",
      "\n",
      "回答：\n",
      "根據文中描述，小孩子們應該對大人們寬厚些，不要埋怨他們。\n",
      " ----------------- all result -----------------\n",
      "檢索到的段落 (含相似度)：\n",
      "[1] 相似度: 1.0364\n",
      "小孩子們對大人們應該寬厚些，不要埋怨他們。 \n",
      " \n",
      "    當然，對我們懂得生活的人來說，我們才不在乎那些編號呢！我真愿意象講 \n",
      "神話那樣來開始這個故事，我真想這樣說： \n",
      " \n",
      "    “從前呀，有一個小王子，他住在一個和他身體差不多大的星球上，他希望 \n",
      "有一個朋友…”對懂得生活的人來說，這樣說就顯得真實。 \n",
      " \n",
      "    我可不喜歡人們輕率地讀我的書。我在講述這些往事時心情是很難過的。我 \n",
      "的朋友帶著...\n",
      "---\n",
      "[2] 相似度: 1.0440\n",
      "于是花兒放開嗓門咳嗽了几聲，依然要使小王子后悔自己的過失。 \n",
      " \n",
      "    盡管小王子本來誠心誠意地喜歡這朵花，可是，這一來，卻使他馬上對她產 \n",
      "生了懷疑。小王子對一些無關緊要的話看得太認真，結果使自己很苦惱。 \n",
      " \n",
      "    有一天他告訴我說：“我不該聽信她的話，絕不該聽信那些花兒的話，看看 \n",
      "花，聞聞它就得了。我的那朵花使我的星球芳香四溢，可我不會享受它。關于老 \n",
      "虎爪子的事，本應該使我產生同情，...\n",
      "---\n",
      "[3] 相似度: 1.0468\n",
      "這是我在沙漠上出了事故的第八天。我聽著有關這個商人的故事，喝完了我 \n",
      "所備用的最后一滴水。 \n",
      " \n",
      "    “啊！”我對小王子說，“你回憶的這些故事真美。可是，我還沒有修好我 \n",
      "的飛機。我沒有喝的了，假如我能悠哉游哉地走到水泉邊去，我一定也會很高興 \n",
      "的！” \n",
      " \n",
      "    小王子對我說：“我的朋友狐狸…”...\n",
      "---\n",
      "[4] 相似度: 1.0514\n",
      "花兒咳嗽了一陣。但并不是由于感冒。 \n",
      " \n",
      "    她終于對他說道：“我方才真蠢。請你原諒我。希望你能幸福。” \n",
      " \n",
      "    花兒對他毫不抱怨，他感到很驚訝。他舉著罩子，不知所措地佇立在那里。 \n",
      "他不明白她為什么會這樣溫柔恬靜。 \n",
      " \n",
      "    “的確， 我愛你。 ”花兒對他說道： “但由于我的過錯， 你一點也沒有理會。 \n",
      "這絲毫不重要。不過，你也和我一樣的蠢。希望你今后能幸福。把罩子放在一邊 \n",
      "吧，...\n",
      "---\n",
      "\n",
      "問題：根據你的記憶, 為什麼？\n",
      "\n",
      "\n",
      "回答：\n",
      "根據文中描述，小王子和酒鬼的對話，酒鬼喝酒是為了忘卻羞愧。然後小王子問他為什麼要忘卻這個羞愧，他回答說是因為自己羞愧於自己喝酒。\n",
      " ----------------- all result -----------------\n",
      "檢索到的段落 (含相似度)：\n",
      "[1] 相似度: 0.9114\n",
      "XXVI \n",
      " \n",
      "    在井旁邊有一堵殘缺的石牆。第二天晚上我工作回來的時候，我遠遠地看見 \n",
      "了小王子耷拉著雙腿坐在牆上。我聽見他在說話： \n",
      " \n",
      "    “你怎么不記得了呢？”他說，“絕不是在這兒。” \n",
      " \n",
      "    大概還有另一個聲音在回答他，因為他答著腔說道：...\n",
      "---\n",
      "[2] 相似度: 0.9350\n",
      "瓶子，有的裝著酒，有的是空的。 \n",
      " \n",
      "    “我喝酒。”他陰沉憂郁地回答道。 \n",
      " \n",
      "    “你為什么喝酒？”小王子問道。 \n",
      " \n",
      "    “為了忘卻。”酒鬼回答。 \n",
      " \n",
      "    小王子已經有些可憐酒鬼。他問道：“忘卻什么呢？” \n",
      " \n",
      "    酒鬼垂下腦袋坦白道：“為了忘卻我的羞愧。” \n",
      " \n",
      "    “你羞愧什么呢？”小王子很想救助他。 \n",
      " \n",
      "    “我羞愧我喝酒。”酒鬼說完以后就再也不開口了。...\n",
      "---\n",
      "[3] 相似度: 0.9417\n",
      "我很驚訝，突然明白了為什么沙漠放著光芒。當我還是一個小孩子的時候， \n",
      "我住在一座古老的房子里，而且傳說，這個房子里埋藏著一個寶貝。當然，從來 \n",
      "沒有任何人能發現這個寶貝，可能，甚至也沒有人去尋找過。但是，這個寶貝使 \n",
      "整個房子著了魔似的。我家的房子在它的心靈深處隱藏著一個秘密… \n",
      " \n",
      "    我對小王子說道：“是的，無論是房子，星星，或是沙漠，使它們美麗的東 \n",
      "西是看不見的！” \n",
      " \n",
      "    “我...\n",
      "---\n",
      "[4] 相似度: 0.9480\n",
      "（此劇本由簡體中文版轉錄而來） \n",
      "*************************************************** ****************** \n",
      " \n",
      "                        獻給列翁﹒維爾特 \n",
      " \n",
      "    我請孩子們原諒我把這本書獻給了一個大人。我有一個很重要的理由：這個 \n",
      "大人是我在世界上最好的朋友。我還有另一個理由：這個大人他什么都能懂，...\n",
      "---\n"
     ]
    }
   ],
   "source": [
    "# 啟動對話紀錄\n",
    "chat_history = []\n",
    "\n",
    "# 多輪問答測試\n",
    "queries = [\n",
    "    \"這個故事告訴我們什麼道理？\",\n",
    "    \"根據你的記憶, 不要埋怨誰？\",\n",
    "    \"根據你的記憶, 為什麼？\"\n",
    "]\n",
    "\n",
    "for query in queries:\n",
    "    print(f\"\\n問題：{query}\\n\")\n",
    "    print(\"\\n回答：\")\n",
    "    result = qa_chain.invoke({\"query\": query, \"chat_history\": chat_history})\n",
    "    \n",
    "    print(\"\\n ----------------- all result -----------------\")\n",
    "    # print(result)\n",
    "    \n",
    "    # 顯示檢索到的段落與相似度\n",
    "    print(\"檢索到的段落 (含相似度)：\")\n",
    "    retriever = db.as_retriever()\n",
    "    retrieved_docs_with_scores = db.similarity_search_with_score(query, k=4)\n",
    "    for i, (doc, score) in enumerate(retrieved_docs_with_scores, 1):\n",
    "        print(f\"[{i}] 相似度: {score:.4f}\")\n",
    "        print(doc.page_content[:200] + \"...\")\n",
    "        print(\"---\")\n",
    "    \n",
    "    # 更新對話歷史\n",
    "    chat_history.append((query, result))"
   ]
  },
  {
   "cell_type": "code",
   "execution_count": 32,
   "id": "41b239bd-bbdd-4291-993d-b6e8ee05bfbb",
   "metadata": {
    "collapsed": true,
    "jupyter": {
     "outputs_hidden": true
    }
   },
   "outputs": [
    {
     "name": "stdout",
     "output_type": "stream",
     "text": [
      "[('這個故事告訴我們什麼道理？', {'query': '這個故事告訴我們什麼道理？', 'chat_history': [...], 'result': '小孩子們對大人們應該寬厚些，不要埋怨他們。', 'source_documents': [Document(id='67743f4f-00d3-481a-b625-81ef89d1b619', metadata={'producer': 'AFPL Ghostscript 8.13', 'title': '(Microsoft Word - LE PETIT PRINCE\\\\244\\\\244\\\\244\\\\345\\\\252\\\\251.doc)', 'creator': 'PrimoPDF http://www.primopdf.com', 'page_label': '14', 'page': 13, 'author': 'user', 'total_pages': 54, 'creationdate': 'D:20090501171152', 'source': './data/PDF_file.pdf', 'moddate': 'D:20090501171152'}, page_content='有一天他告訴我說：“我不該聽信她的話，絕不該聽信那些花兒的話，看看 \\n花，聞聞它就得了。我的那朵花使我的星球芳香四溢，可我不會享受它。關于老 \\n虎爪子的事，本應該使我產生同情，卻反而使我惱火…” \\n \\n    他還告訴我說： \\n \\n    “我那時什么也不懂！我應該根據她的行為，而不是根據她的話來判斷她。 \\n她使我的生活芬芳多彩，我真不該離開她跑出來。我本應該猜出在她那令人愛憐 \\n的花招后面所隱藏的溫情。 花是多么自相矛盾！我當時太年青， 還不懂得愛她。 ”'), Document(id='209a46b2-5322-4195-b194-1a6a4e4095aa', metadata={'producer': 'AFPL Ghostscript 8.13', 'source': './data/PDF_file.pdf', 'total_pages': 54, 'title': '(Microsoft Word - LE PETIT PRINCE\\\\244\\\\244\\\\244\\\\345\\\\252\\\\251.doc)', 'author': 'user', 'page_label': '7', 'creationdate': 'D:20090501171152', 'moddate': 'D:20090501171152', 'creator': 'PrimoPDF http://www.primopdf.com', 'page': 6}, page_content='小孩子們對大人們應該寬厚些，不要埋怨他們。 \\n \\n    當然，對我們懂得生活的人來說，我們才不在乎那些編號呢！我真愿意象講 \\n神話那樣來開始這個故事，我真想這樣說： \\n \\n    “從前呀，有一個小王子，他住在一個和他身體差不多大的星球上，他希望 \\n有一個朋友…”對懂得生活的人來說，這樣說就顯得真實。 \\n \\n    我可不喜歡人們輕率地讀我的書。我在講述這些往事時心情是很難過的。我 \\n的朋友帶著他的小羊已經離去六年了。我之所以在這里盡力把他描寫出來，就是'), Document(id='d4014edb-4e2a-4597-a1f3-3ba046e43180', metadata={'page_label': '7', 'author': 'user', 'producer': 'AFPL Ghostscript 8.13', 'source': './data/PDF_file.pdf', 'creationdate': 'D:20090501171152', 'total_pages': 54, 'title': '(Microsoft Word - LE PETIT PRINCE\\\\244\\\\244\\\\244\\\\345\\\\252\\\\251.doc)', 'moddate': 'D:20090501171152', 'page': 6, 'creator': 'PrimoPDF http://www.primopdf.com'}, page_content='羊。他想要一只小羊，這就証明他的存在。”他們一定會聳聳肩膀，把你當作孩 \\n子看待！但是，如果你對他們說：“小王子來自的星球就是小行星 B612 ”，那\\n么他們就十分信服，他們就不會提出一大堆問題來和你糾纏。他們就是這樣的。\\n小孩子們對大人們應該寬厚些，不要埋怨他們。 \\n \\n    當然，對我們懂得生活的人來說，我們才不在乎那些編號呢！我真愿意象講 \\n神話那樣來開始這個故事，我真想這樣說： \\n \\n    “從前呀，有一個小王子，他住在一個和他身體差不多大的星球上，他希望'), Document(id='d262f203-1520-44a6-a02f-67c86713b03e', metadata={'page': 8, 'source': './data/PDF_file.pdf', 'creator': 'PrimoPDF http://www.primopdf.com', 'title': '(Microsoft Word - LE PETIT PRINCE\\\\244\\\\244\\\\244\\\\345\\\\252\\\\251.doc)', 'total_pages': 54, 'page_label': '9', 'producer': 'AFPL Ghostscript 8.13', 'moddate': 'D:20090501171152', 'creationdate': 'D:20090501171152', 'author': 'user'}, page_content='家的口吻來說話，可是猴面包樹的危險，大家都不大了解，對迷失在小行星上的 \\n人來說，危險性非常之大，因此這一回，我貿然打破了我的這種不喜歡教訓人的 \\n慣例。我說：“孩子們，要當心那些猴面包樹呀！”為了叫我的朋友們警惕這種 \\n危險──他們同我一樣長期以來和這種危險接觸， 卻沒有意識到它的危險性── \\n我花了很大的功夫畫了這副畫。我提出的這個教訓意義是很重大的，花點功夫是 \\n很值得的。你們也許要問，為什么這本書中別的畫都沒有這副畫那么壯觀呢？回')]}), ('根據你的記憶, 不要埋怨誰？', {'query': '根據你的記憶, 不要埋怨誰？', 'chat_history': [...], 'result': '根據文中描述，小孩子們應該對大人們寬厚些，不要埋怨他們。', 'source_documents': [Document(id='209a46b2-5322-4195-b194-1a6a4e4095aa', metadata={'page_label': '7', 'creator': 'PrimoPDF http://www.primopdf.com', 'author': 'user', 'source': './data/PDF_file.pdf', 'page': 6, 'creationdate': 'D:20090501171152', 'moddate': 'D:20090501171152', 'title': '(Microsoft Word - LE PETIT PRINCE\\\\244\\\\244\\\\244\\\\345\\\\252\\\\251.doc)', 'producer': 'AFPL Ghostscript 8.13', 'total_pages': 54}, page_content='小孩子們對大人們應該寬厚些，不要埋怨他們。 \\n \\n    當然，對我們懂得生活的人來說，我們才不在乎那些編號呢！我真愿意象講 \\n神話那樣來開始這個故事，我真想這樣說： \\n \\n    “從前呀，有一個小王子，他住在一個和他身體差不多大的星球上，他希望 \\n有一個朋友…”對懂得生活的人來說，這樣說就顯得真實。 \\n \\n    我可不喜歡人們輕率地讀我的書。我在講述這些往事時心情是很難過的。我 \\n的朋友帶著他的小羊已經離去六年了。我之所以在這里盡力把他描寫出來，就是'), Document(id='6c832a23-1c90-4025-9d67-6a60235cd69b', metadata={'author': 'user', 'moddate': 'D:20090501171152', 'source': './data/PDF_file.pdf', 'page_label': '14', 'total_pages': 54, 'page': 13, 'producer': 'AFPL Ghostscript 8.13', 'title': '(Microsoft Word - LE PETIT PRINCE\\\\244\\\\244\\\\244\\\\345\\\\252\\\\251.doc)', 'creator': 'PrimoPDF http://www.primopdf.com', 'creationdate': 'D:20090501171152'}, page_content='于是花兒放開嗓門咳嗽了几聲，依然要使小王子后悔自己的過失。 \\n \\n    盡管小王子本來誠心誠意地喜歡這朵花，可是，這一來，卻使他馬上對她產 \\n生了懷疑。小王子對一些無關緊要的話看得太認真，結果使自己很苦惱。 \\n \\n    有一天他告訴我說：“我不該聽信她的話，絕不該聽信那些花兒的話，看看 \\n花，聞聞它就得了。我的那朵花使我的星球芳香四溢，可我不會享受它。關于老 \\n虎爪子的事，本應該使我產生同情，卻反而使我惱火…” \\n \\n    他還告訴我說：'), Document(id='93faa900-d04a-4953-9b33-afd1b8fd60c8', metadata={'page': 40, 'page_label': '41', 'author': 'user', 'producer': 'AFPL Ghostscript 8.13', 'total_pages': 54, 'creator': 'PrimoPDF http://www.primopdf.com', 'creationdate': 'D:20090501171152', 'moddate': 'D:20090501171152', 'title': '(Microsoft Word - LE PETIT PRINCE\\\\244\\\\244\\\\244\\\\345\\\\252\\\\251.doc)', 'source': './data/PDF_file.pdf'}, page_content='這是我在沙漠上出了事故的第八天。我聽著有關這個商人的故事，喝完了我 \\n所備用的最后一滴水。 \\n \\n    “啊！”我對小王子說，“你回憶的這些故事真美。可是，我還沒有修好我 \\n的飛機。我沒有喝的了，假如我能悠哉游哉地走到水泉邊去，我一定也會很高興 \\n的！” \\n \\n    小王子對我說：“我的朋友狐狸…”'), Document(id='5821f9c3-b6f9-4663-95e4-d85a8e2a7d0e', metadata={'source': './data/PDF_file.pdf', 'moddate': 'D:20090501171152', 'page': 14, 'total_pages': 54, 'creator': 'PrimoPDF http://www.primopdf.com', 'title': '(Microsoft Word - LE PETIT PRINCE\\\\244\\\\244\\\\244\\\\345\\\\252\\\\251.doc)', 'creationdate': 'D:20090501171152', 'producer': 'AFPL Ghostscript 8.13', 'page_label': '15', 'author': 'user'}, page_content='花兒咳嗽了一陣。但并不是由于感冒。 \\n \\n    她終于對他說道：“我方才真蠢。請你原諒我。希望你能幸福。” \\n \\n    花兒對他毫不抱怨，他感到很驚訝。他舉著罩子，不知所措地佇立在那里。 \\n他不明白她為什么會這樣溫柔恬靜。 \\n \\n    “的確， 我愛你。 ”花兒對他說道： “但由于我的過錯， 你一點也沒有理會。 \\n這絲毫不重要。不過，你也和我一樣的蠢。希望你今后能幸福。把罩子放在一邊 \\n吧，我用不著它了。” \\n \\n    “要是風來了怎么辦？”')]}), ('根據你的記憶, 為什麼？', {'query': '根據你的記憶, 為什麼？', 'chat_history': [...], 'result': '根據文中描述，小王子和酒鬼的對話，酒鬼喝酒是為了忘卻羞愧。然後小王子問他為什麼要忘卻這個羞愧，他回答說是因為自己羞愧於自己喝酒。', 'source_documents': [Document(id='691273f1-d575-4b03-82c8-6a9f87296443', metadata={'source': './data/PDF_file.pdf', 'total_pages': 54, 'producer': 'AFPL Ghostscript 8.13', 'creationdate': 'D:20090501171152', 'title': '(Microsoft Word - LE PETIT PRINCE\\\\244\\\\244\\\\244\\\\345\\\\252\\\\251.doc)', 'page_label': '46', 'creator': 'PrimoPDF http://www.primopdf.com', 'page': 45, 'moddate': 'D:20090501171152', 'author': 'user'}, page_content='XXVI \\n \\n    在井旁邊有一堵殘缺的石牆。第二天晚上我工作回來的時候，我遠遠地看見 \\n了小王子耷拉著雙腿坐在牆上。我聽見他在說話： \\n \\n    “你怎么不記得了呢？”他說，“絕不是在這兒。” \\n \\n    大概還有另一個聲音在回答他，因為他答著腔說道：'), Document(id='502d46a6-fda6-4116-8ac1-325e125fa301', metadata={'moddate': 'D:20090501171152', 'page': 20, 'page_label': '21', 'creationdate': 'D:20090501171152', 'creator': 'PrimoPDF http://www.primopdf.com', 'total_pages': 54, 'title': '(Microsoft Word - LE PETIT PRINCE\\\\244\\\\244\\\\244\\\\345\\\\252\\\\251.doc)', 'producer': 'AFPL Ghostscript 8.13', 'source': './data/PDF_file.pdf', 'author': 'user'}, page_content='瓶子，有的裝著酒，有的是空的。 \\n \\n    “我喝酒。”他陰沉憂郁地回答道。 \\n \\n    “你為什么喝酒？”小王子問道。 \\n \\n    “為了忘卻。”酒鬼回答。 \\n \\n    小王子已經有些可憐酒鬼。他問道：“忘卻什么呢？” \\n \\n    酒鬼垂下腦袋坦白道：“為了忘卻我的羞愧。” \\n \\n    “你羞愧什么呢？”小王子很想救助他。 \\n \\n    “我羞愧我喝酒。”酒鬼說完以后就再也不開口了。 \\n \\n    小王子迷惑不解地離開了。 \\n \\n    在旅途中，他自言自語地說道：“這些大人確實真叫怪。”'), Document(id='57ec1a75-f2e6-43bc-96d7-e4eeaea488e7', metadata={'page_label': '43', 'title': '(Microsoft Word - LE PETIT PRINCE\\\\244\\\\244\\\\244\\\\345\\\\252\\\\251.doc)', 'producer': 'AFPL Ghostscript 8.13', 'page': 42, 'creationdate': 'D:20090501171152', 'total_pages': 54, 'author': 'user', 'moddate': 'D:20090501171152', 'source': './data/PDF_file.pdf', 'creator': 'PrimoPDF http://www.primopdf.com'}, page_content='我很驚訝，突然明白了為什么沙漠放著光芒。當我還是一個小孩子的時候， \\n我住在一座古老的房子里，而且傳說，這個房子里埋藏著一個寶貝。當然，從來 \\n沒有任何人能發現這個寶貝，可能，甚至也沒有人去尋找過。但是，這個寶貝使 \\n整個房子著了魔似的。我家的房子在它的心靈深處隱藏著一個秘密… \\n \\n    我對小王子說道：“是的，無論是房子，星星，或是沙漠，使它們美麗的東 \\n西是看不見的！” \\n \\n    “我真高興，你和我的狐狸的看法一樣。”小王子說。'), Document(id='e04a0e1a-0df9-4434-8e21-18bffac76432', metadata={'author': 'user', 'producer': 'AFPL Ghostscript 8.13', 'title': '(Microsoft Word - LE PETIT PRINCE\\\\244\\\\244\\\\244\\\\345\\\\252\\\\251.doc)', 'source': './data/PDF_file.pdf', 'total_pages': 54, 'creationdate': 'D:20090501171152', 'creator': 'PrimoPDF http://www.primopdf.com', 'page_label': '1', 'page': 0, 'moddate': 'D:20090501171152'}, page_content='（此劇本由簡體中文版轉錄而來） \\n*************************************************** ****************** \\n \\n                        獻給列翁﹒維爾特 \\n \\n    我請孩子們原諒我把這本書獻給了一個大人。我有一個很重要的理由：這個 \\n大人是我在世界上最好的朋友。我還有另一個理由：這個大人他什么都能懂，甚 \\n至給孩子們寫的書他也能懂。我的第三個理由是：這個大人住在法國，他在那里')]})]\n"
     ]
    }
   ],
   "source": [
    "print(chat_history)"
   ]
  },
  {
   "cell_type": "code",
   "execution_count": null,
   "id": "50b8fe3f-1ff6-4bcf-b0a8-c8ae7b11948c",
   "metadata": {},
   "outputs": [],
   "source": []
  }
 ],
 "metadata": {
  "kernelspec": {
   "display_name": "Python 3 (ipykernel)",
   "language": "python",
   "name": "python3"
  },
  "language_info": {
   "codemirror_mode": {
    "name": "ipython",
    "version": 3
   },
   "file_extension": ".py",
   "mimetype": "text/x-python",
   "name": "python",
   "nbconvert_exporter": "python",
   "pygments_lexer": "ipython3",
   "version": "3.10.14"
  }
 },
 "nbformat": 4,
 "nbformat_minor": 5
}
