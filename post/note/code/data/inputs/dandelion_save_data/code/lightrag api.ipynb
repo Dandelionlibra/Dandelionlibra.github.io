{
 "cells": [
  {
   "cell_type": "markdown",
   "id": "14047829-9ba5-45a9-a89b-638254d48151",
   "metadata": {},
   "source": [
    "# LightRAG API 端點"
   ]
  },
  {
   "cell_type": "markdown",
   "id": "54fd6344-ba67-4646-be2d-8ace5c811ac0",
   "metadata": {},
   "source": [
    "### POST /query  \n",
    "使用不同搜尋模式查詢 RAG。\n",
    "\n",
    "**模式**  \n",
    "* native\n",
    "* local\n",
    "* global\n",
    "* hybrid\n",
    "* mix\n",
    "* bypass"
   ]
  },
  {
   "cell_type": "code",
   "execution_count": 1,
   "id": "f395578d-4214-422d-9247-376d2b550c00",
   "metadata": {},
   "outputs": [
    {
     "name": "stdout",
     "output_type": "stream",
     "text": [
      "{\"response\":\"## 林致遠的最後心願\\n\\n林致遠在生命最後期，最大的願望是能看到愛與知識的傳承。他希望有人能接手知一書屋，延續他對書籍和文學的热爱。在與蘇曉的交往中，他逐漸將書店託付給蘇曉，並希望她能將愛與知識傳承下去 (DC: cat_story_2.txt)。\\n\\n從故事的結尾來看，林致遠的心願得以實現。蘇曉接手了知一書屋，並將其經營成當地最具人氣的文學書店 (DC: cat_story_2.txt)。她不僅守護了這間書店，更將愛與知識傳遞給更多人。因此，林致遠不僅如願以償，也見證了愛與知識的永恆傳承。\\n\\n此外，林致遠也希望書店能繼續充滿生氣。在他生命的最後時期，蘇曉的出現為他帶來了慰藉與希望，使他重新燃起了對生活的熱情。書店也因此重煥生機，這也算得上是林致遠心願的實現 (DC: cat_story_2.txt)。\\n\\n## References\\n\\n* [KG] cat_story_2.txt\\n* [DC] cat_story_2.txt\\n* [DC] cat_story_1.txt\\n* [KG] cat_story_1.txt\\n* [KG] cat_story_2.txt\"}"
     ]
    }
   ],
   "source": [
    "!curl -X POST \"http://lightrag:9621/query\" \\\n",
    "    -H \"Content-Type: application/json\" \\\n",
    "    -d '{\"query\": \"林致遠最後的心願是什麼？他是否如願？\", \"mode\": \"hybrid\"}'"
   ]
  },
  {
   "cell_type": "code",
   "execution_count": 2,
   "id": "d113b003-0e38-48b6-820d-2911b87ebb22",
   "metadata": {},
   "outputs": [
    {
     "name": "stdout",
     "output_type": "stream",
     "text": [
      "{\"response\":\"## 林致遠的最後心願\\n\\n林致遠的最後心願是希望有人能將愛與知識傳承下去。他在臨終前寫給蘇曉的信中表達了這一願望，並將知一書屋留給了她，希望她能繼續經營書店，傳承愛與知識（DC cat_story_2.txt）。\\n\\n從故事的發展來看，林致遠的願望得以實現。蘇曉接手了知一書屋，並將其打造成了當地最具人氣的文學書店，繼續傳承著書中的愛與知識（DC cat_story_2.txt）。她還養了一隻黑貓，取名阿墨，似乎延續了林致遠與阿墨之間的緣分。\\n\\n此外，林致遠也希望有人能放下過去，學會愛與被愛，而蘇曉的出現，似乎也完成了他的這份期盼。阿墨也一直守護著人們，直到他們放下過去，學會愛與被愛（DC cat_story_2.txt）。\\n\\n## References:\\n\\n*   [DC] cat_story_2.txt\\n*   [DC] cat_story_1.txt\\n*   [KG] cat_story_2.txt\\n*   [KG] cat_story_1.txt\\n*   [KG] cat_story_2.txt;cat_story_1.txt\"}"
     ]
    }
   ],
   "source": [
    "!curl -X POST \"http://lightrag:9621/query\" \\\n",
    "    -H \"Content-Type: application/json\" \\\n",
    "    -d '{\"query\": \"林致遠最後的心願是什麼？他是否如願？\", \"mode\": \"global\"}'"
   ]
  },
  {
   "cell_type": "markdown",
   "id": "51a0ce99-4330-457c-9d2a-992ba843ff2f",
   "metadata": {},
   "source": [
    "### POST /query/stream  \n",
    "從 RAG 系統流式獲取回應。"
   ]
  },
  {
   "cell_type": "code",
   "execution_count": 3,
   "id": "24da1a85-c02e-4986-a3aa-36546e28d009",
   "metadata": {
    "collapsed": true,
    "jupyter": {
     "outputs_hidden": true
    }
   },
   "outputs": [
    {
     "name": "stdout",
     "output_type": "stream",
     "text": [
      "{\"response\": \"## \\u6797\\u81f4\\u9060\\u7684\\u6700\\u5f8c\\u5fc3\\u9858\\n\\n\\u6797\\u81f4\\u9060\\u7684\\u6700\\u5f8c\\u5fc3\\u9858\\u662f\\u5e0c\\u671b\\u6709\\u4eba\\u80fd\\u5c07\\u611b\\u8207\\u77e5\\u8b58\\u50b3\\u627f\\u4e0b\\u53bb\\u3002\\u4ed6\\u5728\\u81e8\\u7d42\\u524d\\u5beb\\u7d66\\u8607\\u66c9\\u7684\\u4fe1\\u4e2d\\u8868\\u9054\\u4e86\\u9019\\u4e00\\u9858\\u671b\\uff0c\\u4e26\\u5c07\\u77e5\\u4e00\\u66f8\\u5c4b\\u7559\\u7d66\\u4e86\\u5979\\uff0c\\u5e0c\\u671b\\u5979\\u80fd\\u7e7c\\u7e8c\\u7d93\\u71df\\u66f8\\u5e97\\uff0c\\u50b3\\u627f\\u611b\\u8207\\u77e5\\u8b58\\uff08DC cat_story_2.txt\\uff09\\u3002\\n\\n\\u5f9e\\u6545\\u4e8b\\u7684\\u767c\\u5c55\\u4f86\\u770b\\uff0c\\u6797\\u81f4\\u9060\\u7684\\u9858\\u671b\\u5f97\\u4ee5\\u5be6\\u73fe\\u3002\\u8607\\u66c9\\u63a5\\u624b\\u4e86\\u77e5\\u4e00\\u66f8\\u5c4b\\uff0c\\u4e26\\u5c07\\u5176\\u6253\\u9020\\u6210\\u4e86\\u7576\\u5730\\u6700\\u5177\\u4eba\\u6c23\\u7684\\u6587\\u5b78\\u66f8\\u5e97\\uff0c\\u7e7c\\u7e8c\\u50b3\\u627f\\u8457\\u66f8\\u4e2d\\u7684\\u611b\\u8207\\u77e5\\u8b58\\uff08DC cat_story_2.txt\\uff09\\u3002\\u5979\\u9084\\u990a\\u4e86\\u4e00\\u96bb\\u9ed1\\u8c93\\uff0c\\u53d6\\u540d\\u963f\\u58a8\\uff0c\\u4f3c\\u4e4e\\u5ef6\\u7e8c\\u4e86\\u6797\\u81f4\\u9060\\u8207\\u963f\\u58a8\\u4e4b\\u9593\\u7684\\u7de3\\u5206\\u3002\\n\\n\\u6b64\\u5916\\uff0c\\u6797\\u81f4\\u9060\\u4e5f\\u5e0c\\u671b\\u6709\\u4eba\\u80fd\\u653e\\u4e0b\\u904e\\u53bb\\uff0c\\u5b78\\u6703\\u611b\\u8207\\u88ab\\u611b\\uff0c\\u800c\\u8607\\u66c9\\u7684\\u51fa\\u73fe\\uff0c\\u4f3c\\u4e4e\\u4e5f\\u5b8c\\u6210\\u4e86\\u4ed6\\u7684\\u9019\\u4efd\\u671f\\u76fc\\u3002\\u963f\\u58a8\\u4e5f\\u4e00\\u76f4\\u5b88\\u8b77\\u8457\\u4eba\\u5011\\uff0c\\u76f4\\u5230\\u4ed6\\u5011\\u653e\\u4e0b\\u904e\\u53bb\\uff0c\\u5b78\\u6703\\u611b\\u8207\\u88ab\\u611b\\uff08DC cat_story_2.txt\\uff09\\u3002\\n\\n## References:\\n\\n*   [DC] cat_story_2.txt\\n*   [DC] cat_story_1.txt\\n*   [KG] cat_story_2.txt\\n*   [KG] cat_story_1.txt\\n*   [KG] cat_story_2.txt;cat_story_1.txt\"}\n"
     ]
    }
   ],
   "source": [
    "# Unicode 編碼\n",
    "!curl -X POST \"http://lightrag:9621/query/stream\" \\\n",
    "    -H \"Content-Type: application/json\" \\\n",
    "    -d '{\"query\": \"林致遠最後的心願是什麼？他是否如願？\", \"mode\": \"global\"}'"
   ]
  },
  {
   "cell_type": "markdown",
   "id": "19a6ef76-e7dc-4745-97a3-d05bbb1f1f0e",
   "metadata": {},
   "source": [
    "## 文檔管理"
   ]
  },
  {
   "cell_type": "markdown",
   "id": "b2a3818a-a0f4-45e3-b4ef-a0f519ca85db",
   "metadata": {},
   "source": [
    "### POST /documents/text\n",
    "直接將文本插入 RAG 系統。"
   ]
  },
  {
   "cell_type": "code",
   "execution_count": 4,
   "id": "e4c05ef7-c437-4e7c-a09e-d1b6e55404f6",
   "metadata": {},
   "outputs": [
    {
     "name": "stdout",
     "output_type": "stream",
     "text": [
      "{\"response\":\"我無法回答這個問題。提供的知識庫包含關於林致遠、蘇曉、阿墨和他們的故事的信息，沒有關於細胞的生物學定義的內容。我只能根據提供的知識庫回答問題。\"}"
     ]
    }
   ],
   "source": [
    "# 測試問題\n",
    "!curl -X POST \"http://lightrag:9621/query\" \\\n",
    "    -H \"Content-Type: application/json\" \\\n",
    "    -d '{\"query\": \"什麼是細胞？\", \"mode\": \"global\"}'"
   ]
  },
  {
   "cell_type": "code",
   "execution_count": 6,
   "id": "71f0b54a-6c7d-4848-90c0-8db6bc5d0baa",
   "metadata": {},
   "outputs": [
    {
     "name": "stdout",
     "output_type": "stream",
     "text": [
      "{\"status\":\"success\",\"message\":\"Text successfully received. Processing will continue in background.\"}"
     ]
    }
   ],
   "source": [
    "!curl -X POST \"http://lightrag:9621/documents/text\" \\\n",
    "    -H \"Content-Type: application/json\" \\\n",
    "    -d '{\"text\": \"細胞是所有生物體的基本單位，所有生物體的結構和功能都離不開細胞。根據細胞的結構，可以將其分為兩類：原核細胞和真核細胞。原核細胞如細菌和藍綠藻，沒有明確的細胞核，遺傳物質直接位於細胞質中。而真核細胞則具有明確的細胞核，並且擁有分工更細的細胞器，如線粒體、內質網等。每個細胞內都包含一個基因組，負責遺傳訊息的儲存與傳遞。細胞的生命活動依賴於複雜的化學反應，這些反應在細胞內的各種細胞器中進行。\", \"description\": \"生物\"}' # description= option description"
   ]
  },
  {
   "cell_type": "markdown",
   "id": "58aaf335-54dc-4097-ae55-0243d789d9f4",
   "metadata": {},
   "source": [
    "伺服器訊息：  \n",
    "```\n",
    "Processing 1 document(s)\n",
    "Extracting stage 1/1: None\n",
    "Processing d-id: doc-7da4699ea1b8f20db041f46e7f2b7cdd\n",
    "Chunk 1 of 1 extracted 11 Ent + 14 Rel\n",
    "Merging stage 1/1: None\n",
    "Processing: 11 entities and 10 relations (async: 8)\n",
    "Merge E: 真核細胞 - 線粒體 | 2+0\n",
    "Merge E: 內質網 - 真核細胞 | 2+0\n",
    "Completed processing file 1/1: None\n",
    "Document processing pipeline completed\n",
    "```"
   ]
  },
  {
   "cell_type": "code",
   "execution_count": 8,
   "id": "49095cd6-fdf5-4719-8669-cbd87a9421aa",
   "metadata": {},
   "outputs": [
    {
     "name": "stdout",
     "output_type": "stream",
     "text": [
      "{\"response\":\"我無法回答這個問題。提供的知識庫包含關於林致遠、蘇曉、阿墨和他們的故事的信息，沒有關於細胞的生物學定義的內容。我只能根據提供的知識庫回答問題。\"}"
     ]
    }
   ],
   "source": [
    "# 測試問題\n",
    "!curl -X POST \"http://lightrag:9621/query\" \\\n",
    "    -H \"Content-Type: application/json\" \\\n",
    "    -d '{\"query\": \"什麼是細胞？\", \"mode\": \"global\"}'"
   ]
  },
  {
   "cell_type": "markdown",
   "id": "42fb103c-c1af-4122-87d3-eb9dfb0f4a83",
   "metadata": {},
   "source": [
    "載入文件失敗 500 Internal Server Error {\"detail\":\"1 validation error for DocStatusResponse\\nfile_path\\n Input should be a valid string [type=string_type, input_value=None, input_type=NoneType]\\n For further information visit https://errors.pydantic.dev/2.11/v/string_type\"} /documents"
   ]
  },
  {
   "cell_type": "code",
   "execution_count": 9,
   "id": "204c234d-0db2-4995-aa82-a0e4deb63b47",
   "metadata": {},
   "outputs": [
    {
     "name": "stdout",
     "output_type": "stream",
     "text": [
      "{\"response\":\"## 林致遠的最後心願\\n\\n林致遠在生命最後期，最大的願望是能看到愛與知識的傳承。他希望有人能接手知一書屋，延續他對書籍和文學的热爱。在與蘇曉的交往中，他逐漸將書店託付給蘇曉，並希望她能將愛與知識傳承下去 (DC: cat_story_2.txt)。\\n\\n從故事的結尾來看，林致遠的心願得以實現。蘇曉接手了知一書屋，並將其經營成當地最具人氣的文學書店 (DC: cat_story_2.txt)。她不僅守護了這間書店，更將愛與知識傳遞給更多人。因此，林致遠不僅如願以償，也見證了愛與知識的永恆傳承。\\n\\n此外，林致遠也希望書店能繼續充滿生氣。在他生命的最後時期，蘇曉的出現為他帶來了慰藉與希望，使他重新燃起了對生活的熱情。書店也因此重煥生機，這也算得上是林致遠心願的實現 (DC: cat_story_2.txt)。\\n\\n## References\\n\\n* [KG] cat_story_2.txt\\n* [DC] cat_story_2.txt\\n* [DC] cat_story_1.txt\\n* [KG] cat_story_1.txt\\n* [KG] cat_story_2.txt\"}"
     ]
    }
   ],
   "source": [
    "!curl -X POST \"http://lightrag:9621/query\" \\\n",
    "    -H \"Content-Type: application/json\" \\\n",
    "    -d '{\"query\": \"林致遠最後的心願是什麼？他是否如願？\", \"mode\": \"hybrid\"}'"
   ]
  },
  {
   "cell_type": "markdown",
   "id": "3f99753d-858f-49c7-b51b-6a9da252fe5a",
   "metadata": {},
   "source": [
    "### POST /documents/file\n",
    "上傳單個文件。"
   ]
  },
  {
   "cell_type": "code",
   "execution_count": 13,
   "id": "9dca1b5b-b8a1-40e2-aafa-5d44aae61d1c",
   "metadata": {},
   "outputs": [
    {
     "name": "stdout",
     "output_type": "stream",
     "text": [
      "{\"detail\":\"Not Found\"}"
     ]
    }
   ],
   "source": [
    "!curl -X POST \"http://lightrag:9621/documents/file\" \\\n",
    "    -F \"file=@./../prince_docs/little_prince_1.txt\" \\\n",
    "    #-F \"description=\" # option description"
   ]
  },
  {
   "cell_type": "markdown",
   "id": "a72bc091-38eb-46cc-abc2-80d623ccfe63",
   "metadata": {},
   "source": [
    "### POST /documents/batch\n",
    "上傳多個文件。"
   ]
  },
  {
   "cell_type": "code",
   "execution_count": null,
   "id": "9ba48745-1dbb-485a-9221-7eca00aeca98",
   "metadata": {},
   "outputs": [],
   "source": [
    "!curl -X POST \"http://lightrag:9621/documents/file\" \\\n",
    "    -F \"file=@./../prince_docs/little_prince_1.txt\" \\\n",
    "    -F \"file=@./../prince_docs/little_prince_2.txt\" \\"
   ]
  },
  {
   "cell_type": "code",
   "execution_count": null,
   "id": "003b1f41-9072-48f6-b463-1305a9a6f4fa",
   "metadata": {},
   "outputs": [],
   "source": [
    "### POST /documents/scan\n",
    "觸發輸入目錄中新文件的文檔掃描。"
   ]
  },
  {
   "cell_type": "code",
   "execution_count": 14,
   "id": "d4b20bfe-ec23-4b47-853c-69e97c43f7c3",
   "metadata": {},
   "outputs": [
    {
     "name": "stdout",
     "output_type": "stream",
     "text": [
      "{\"status\":\"scanning_started\",\"message\":\"Scanning process has been initiated in the background\"}"
     ]
    }
   ],
   "source": [
    "!curl -X POST \"http://lightrag:9621/documents/scan\" --max-time 1800 # 根據所有文件的預計索引時間調整 max-time"
   ]
  },
  {
   "cell_type": "code",
   "execution_count": null,
   "id": "784370cb-0821-451b-982c-f0e5e60b4924",
   "metadata": {},
   "outputs": [],
   "source": [
    "### DELETE /documents\n",
    "清除所有文件。"
   ]
  },
  {
   "cell_type": "code",
   "execution_count": null,
   "id": "1dacd94e-c991-4584-9d0d-bf86dbbd2e69",
   "metadata": {},
   "outputs": [],
   "source": []
  },
  {
   "cell_type": "code",
   "execution_count": null,
   "id": "b0858153-d4bf-471d-ac9e-7907a0af4162",
   "metadata": {},
   "outputs": [],
   "source": []
  },
  {
   "cell_type": "markdown",
   "id": "c970f962-7bfa-4d2f-a410-1e060da1229a",
   "metadata": {},
   "source": [
    "## "
   ]
  },
  {
   "cell_type": "code",
   "execution_count": null,
   "id": "cb8cd0f5-8fb7-40b2-a2cd-37e8e96ff7b8",
   "metadata": {},
   "outputs": [],
   "source": [
    "!curl http://localhost:9621/api/version"
   ]
  },
  {
   "cell_type": "code",
   "execution_count": null,
   "id": "b1d4359c-aebb-406c-9bf5-d2ab263f3824",
   "metadata": {},
   "outputs": [],
   "source": []
  },
  {
   "cell_type": "code",
   "execution_count": null,
   "id": "d5eb3d8f-342e-44c2-9817-a023d6b7dbdd",
   "metadata": {},
   "outputs": [],
   "source": []
  },
  {
   "cell_type": "code",
   "execution_count": null,
   "id": "12110006-dffb-4118-a325-4e69b8b54494",
   "metadata": {},
   "outputs": [],
   "source": []
  },
  {
   "cell_type": "code",
   "execution_count": null,
   "id": "38503513-3546-4359-8175-561194249f69",
   "metadata": {},
   "outputs": [],
   "source": []
  },
  {
   "cell_type": "code",
   "execution_count": null,
   "id": "68b1ecc0-c2fd-46e7-a811-fc7c0e084448",
   "metadata": {},
   "outputs": [],
   "source": []
  },
  {
   "cell_type": "code",
   "execution_count": 2,
   "id": "b9bbd69c-3d60-4ff9-9911-a937b62b43cc",
   "metadata": {
    "collapsed": true,
    "jupyter": {
     "outputs_hidden": true
    }
   },
   "outputs": [
    {
     "name": "stdout",
     "output_type": "stream",
     "text": [
      "Get:1 https://developer.download.nvidia.com/compute/cuda/repos/ubuntu2204/x86_64  InRelease [1581 B]\n",
      "Get:2 https://developer.download.nvidia.com/compute/cuda/repos/ubuntu2204/x86_64  Packages [1853 kB]\n",
      "Get:3 http://archive.ubuntu.com/ubuntu jammy InRelease [270 kB]                \n",
      "Get:4 http://security.ubuntu.com/ubuntu jammy-security InRelease [129 kB]  \n",
      "Get:5 http://security.ubuntu.com/ubuntu jammy-security/multiverse amd64 Packages [48.5 kB]\n",
      "Get:6 http://archive.ubuntu.com/ubuntu jammy-updates InRelease [128 kB]\n",
      "Get:7 http://security.ubuntu.com/ubuntu jammy-security/main amd64 Packages [3207 kB]\n",
      "Get:8 http://archive.ubuntu.com/ubuntu jammy-backports InRelease [127 kB]\n",
      "Get:9 http://archive.ubuntu.com/ubuntu jammy/main amd64 Packages [1792 kB]\n",
      "Get:10 http://security.ubuntu.com/ubuntu jammy-security/restricted amd64 Packages [5103 kB]\n",
      "Get:11 http://archive.ubuntu.com/ubuntu jammy/restricted amd64 Packages [164 kB]\n",
      "Get:12 http://archive.ubuntu.com/ubuntu jammy/multiverse amd64 Packages [266 kB]\n",
      "Get:13 http://archive.ubuntu.com/ubuntu jammy/universe amd64 Packages [17.5 MB]\n",
      "Get:14 http://security.ubuntu.com/ubuntu jammy-security/universe amd64 Packages [1270 kB]\n",
      "Get:15 http://archive.ubuntu.com/ubuntu jammy-updates/universe amd64 Packages [1575 kB]\n",
      "Get:16 http://archive.ubuntu.com/ubuntu jammy-updates/multiverse amd64 Packages [75.9 kB]\n",
      "Get:17 http://archive.ubuntu.com/ubuntu jammy-updates/restricted amd64 Packages [5290 kB]\n",
      "Get:18 http://archive.ubuntu.com/ubuntu jammy-updates/main amd64 Packages [3518 kB]\n",
      "Get:19 http://archive.ubuntu.com/ubuntu jammy-backports/universe amd64 Packages [35.2 kB]\n",
      "Get:20 http://archive.ubuntu.com/ubuntu jammy-backports/main amd64 Packages [83.2 kB]\n",
      "Fetched 42.4 MB in 8s (5502 kB/s)                                              \n",
      "Reading package lists... Done\n"
     ]
    }
   ],
   "source": [
    "!apt-get update"
   ]
  },
  {
   "cell_type": "code",
   "execution_count": 3,
   "id": "f4e6e20e-97e3-4d0d-b8ec-3bb7d1ca8a91",
   "metadata": {},
   "outputs": [
    {
     "name": "stdout",
     "output_type": "stream",
     "text": [
      "Reading package lists... Done\n",
      "Building dependency tree... Done\n",
      "Reading state information... Done\n",
      "The following additional packages will be installed:\n",
      "  libbrotli1 libcurl4 libnghttp2-14 libpsl5 librtmp1 libssh-4 publicsuffix\n",
      "The following NEW packages will be installed:\n",
      "  curl libbrotli1 libcurl4 libnghttp2-14 libpsl5 librtmp1 libssh-4\n",
      "  publicsuffix\n",
      "0 upgraded, 8 newly installed, 0 to remove and 78 not upgraded.\n",
      "Need to get 1308 kB of archives.\n",
      "After this operation, 3356 kB of additional disk space will be used.\n",
      "Do you want to continue? [Y/n] ^C\n"
     ]
    }
   ],
   "source": [
    "!apt-get install curl"
   ]
  },
  {
   "cell_type": "code",
   "execution_count": null,
   "id": "34e4861d-999c-4bbb-adbe-8867959c2deb",
   "metadata": {},
   "outputs": [],
   "source": []
  },
  {
   "cell_type": "markdown",
   "id": "e7e4c428-9bb9-466a-aee1-b8643c78f488",
   "metadata": {},
   "source": [
    "## 查詢"
   ]
  }
 ],
 "metadata": {
  "kernelspec": {
   "display_name": "Python 3 (ipykernel)",
   "language": "python",
   "name": "python3"
  },
  "language_info": {
   "codemirror_mode": {
    "name": "ipython",
    "version": 3
   },
   "file_extension": ".py",
   "mimetype": "text/x-python",
   "name": "python",
   "nbconvert_exporter": "python",
   "pygments_lexer": "ipython3",
   "version": "3.10.14"
  }
 },
 "nbformat": 4,
 "nbformat_minor": 5
}
