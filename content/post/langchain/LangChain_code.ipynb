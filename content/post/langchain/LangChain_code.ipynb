{
 "cells": [
  {
   "cell_type": "code",
   "execution_count": 2,
   "metadata": {},
   "outputs": [
    {
     "name": "stdout",
     "output_type": "stream",
     "text": [
      "可以考慮以下幾個選擇：\n",
      "\n",
      "1.  **東陽**: 名字含意是向陽，具有對日出和希望的象徵。\n",
      "2.  **國瑞**: 這個名字結合了\"國\" (代表國家) 和 \"瑞\" (代表吉祥) 的意思，可以表達一個孩子被祝福且有前途。\n",
      "3.  **鵬飛**: 名字中的鵬鳥是中國傳統上具有寓意的象徵，代表雄起和飛越高點，這個名字也可以用來表示希望孩子成長為領袖或事業輝煌。\n",
      "4.  **軒逸**: 這個名字有\"高雅、淡泊\"的意思，可以表達一個人對生活的態度是簡樸而優雅的。\n",
      "5.  **鶴齡**: 名字中的鶴鳥在中國有長命和健康的寓意，這個名字也可以代表希望孩子健康成長。\n"
     ]
    }
   ],
   "source": [
    "from langchain_ollama import OllamaLLM\n",
    "\n",
    "llm = OllamaLLM(model=\"llama3.1:8b\")\n",
    "\n",
    "response = llm.invoke(\"幫我取一個文雅的中國男孩名\")\n",
    "print(response)"
   ]
  },
  {
   "cell_type": "code",
   "execution_count": 4,
   "metadata": {},
   "outputs": [],
   "source": [
    "llm.invoke(\"幫我取一個文雅的中國男孩名\")"
   ]
  },
  {
   "cell_type": "code",
   "execution_count": 3,
   "metadata": {},
   "outputs": [
    {
     "name": "stdout",
     "output_type": "stream",
     "text": [
      "你可以考慮以下幾個選擇：\n",
      "\n",
      "1.  **軒然**：這個名字有著典雅和優雅的氣質，適合給予一個對生活充滿激情和追求卓越的人。\n",
      "2.  **睿哲**：這個名字代表智慧和深思熟慮，適合給予一個聰明、沉靜且有遠見的人。\n",
      "3.  **軒昀**：這個名字有著優雅和高貴的氣質，適合給予一個對生活充滿希望和追求卓越的人。\n",
      "4.  **睿宇**：這個名字代表智慧和無限的可能性，適合給予一個聰明、積極且有遠見的人。\n",
      "5.  **軒昊**：這個名字有著優雅和高貴的氣質，適合給予一個對生活充滿希望和追求卓越的人。\n",
      "\n",
      "以上是幾個文雅的中國男孩名，你可以根據自己的喜好和偏好選擇。\n"
     ]
    }
   ],
   "source": [
    "response = llm.invoke(\"幫我取一個文雅的中國男孩名\", options={\"temperature\": 0})\n",
    "print(response)"
   ]
  },
  {
   "cell_type": "code",
   "execution_count": null,
   "metadata": {},
   "outputs": [],
   "source": [
    "from langchain_ollama import ChatOllama\n",
    "from langchain.schema  import HumanMessage\n",
    "\n",
    "Chatllm = ChatOllama(model=\"llama3.1:8b\")\n",
    "\n",
    "test = \"幫我取一個文雅的中國男孩名\"\n",
    "messages = [HumanMessage(content=test)]\n",
    "\n",
    "\n",
    "response = Chatllm.invoke(messages)"
   ]
  },
  {
   "cell_type": "code",
   "execution_count": null,
   "metadata": {},
   "outputs": [
    {
     "name": "stdout",
     "output_type": "stream",
     "text": [
      "content='這是一個很棒的要求。有很多文雅的中文字可以用作男孩名，我會給你幾個選擇：\\n\\n1.  **軒宇** (Xiānyǔ) - 這名字代表大地、美好和理想。\\n2.  **頌誠** (Chóngchéng) - 這名字象徵誠實和美德。\\n3.  **瑞恩** (Ruìyún) - 這名字意味著幸運和天賦。\\n4.  **旭宇** (Xùyǔ) - 這名字代表陽光、希望和理想。\\n5.  **冠穎** (Guān yǐng) - 這名字象徵優雅和風度。\\n\\n你可以選擇其中一個，或者根據你的喜好和偏好自行修改。' additional_kwargs={} response_metadata={'model': 'llama3.1:8b', 'created_at': '2025-07-06T16:38:12.1347723Z', 'done': True, 'done_reason': 'stop', 'total_duration': 41847016100, 'load_duration': 11567907300, 'prompt_eval_count': 22, 'prompt_eval_duration': 1324422500, 'eval_count': 191, 'eval_duration': 28937040700, 'model_name': 'llama3.1:8b'} id='run--6554a3c7-3bc4-48d3-aaf4-c5eb11730318-0' usage_metadata={'input_tokens': 22, 'output_tokens': 191, 'total_tokens': 213}\n"
     ]
    }
   ],
   "source": [
    "print(response)"
   ]
  },
  {
   "cell_type": "code",
   "execution_count": null,
   "metadata": {},
   "outputs": [
    {
     "data": {
      "text/plain": [
       "AIMessage(content='你可以考慮這些名字：\\n\\n1.  **子軒**：這個名字由「子」和「軒」組成，「子」代表孩子或子孫，而「軒」則象徵榮華富貴。這是一個典雅的名字，可以展現出家長對兒子的期望和愛意。\\n2.  **韜皓**：這個名字由「韜」和「皓」組成，「韜」代表神奇或奧秘，而「皓」則象徵光明。這是一個簡潔的名字，可以展現出兒子的獨特性質和前途。\\n3.  **志文**：這個名字由「志」和「文」組成，「志」代表理想或志向，而「文」則象徵文章或文化。這是一個富有理想主義的名字，可以展現出兒子的求學精神和追求知識的願望。\\n4.  **暉睿**：這個名字由「暉」和「睿」組成，「暉」代表光亮或明確，而「睿」則象徵智慧。這是一個聰穎的名字，可以展現出兒子的敏捷思維和求知欲。\\n5.  **軫皞**：這個名字由「軫」和「皞」組成，「軫」代表行星或運氣，而「皞」則象徵光明。這是一個富有詩意的名字，可以展現出兒子的活力和前途。\\n6.  **睿哲**：這個名字由「睿」和「哲」組成，「睿」代表智慧或聰穎，而「哲」則象徵深刻。這是一個體貼的名字，可以展現出兒子的求知欲和追求真理的願望。\\n7.  **軒一**：這個名字由「軒」和「一」組成，「軒」代表榮華富貴，而「一」則象徵單純。這是一個簡潔的名字，可以展現出兒子的清醒和謙逊。\\n8.  **文昊**：這個名字由「文」和「昊」組成，「文」代表文章或文化，而「昊」則象徵高大。這是一個富有理想主義的名字，可以展現出兒子的求學精神和追求知識的願望。\\n9.  **暉睿洋**：這個名字由「暉」、「睿」和「洋」組成，「暉」代表光亮或明確，而「睿」則象徵智慧。「洋」則指的是開闊。這是一個充滿活力的名字，可以展現出兒子的前途和光輝。\\n10.  **軫皞哲**：這個名字由「軫」、「皞」和「哲」組成，「軫」代表行星或運氣，而「皞」則象徵光明。「哲」則指的是深刻。這是一個富有詩意的名字，可以展現出兒子的活力和求知欲。\\n\\n你可以根據自己的喜好和家長對兒子的期望選擇一個適合的名字。', additional_kwargs={}, response_metadata={'model': 'llama3.1:8b', 'created_at': '2025-07-06T16:40:11.2823895Z', 'done': True, 'done_reason': 'stop', 'total_duration': 113253197100, 'load_duration': 47474400, 'prompt_eval_count': 22, 'prompt_eval_duration': 319862100, 'eval_count': 759, 'eval_duration': 112883461200, 'model_name': 'llama3.1:8b'}, id='run--b17bac88-00e9-41af-a6b1-f94094b14f43-0', usage_metadata={'input_tokens': 22, 'output_tokens': 759, 'total_tokens': 781})"
      ]
     },
     "execution_count": 2,
     "metadata": {},
     "output_type": "execute_result"
    }
   ],
   "source": [
    "Chatllm.invoke(messages)"
   ]
  }
 ],
 "metadata": {
  "kernelspec": {
   "display_name": "Python 3",
   "language": "python",
   "name": "python3"
  },
  "language_info": {
   "codemirror_mode": {
    "name": "ipython",
    "version": 3
   },
   "file_extension": ".py",
   "mimetype": "text/x-python",
   "name": "python",
   "nbconvert_exporter": "python",
   "pygments_lexer": "ipython3",
   "version": "3.10.0"
  }
 },
 "nbformat": 4,
 "nbformat_minor": 2
}
