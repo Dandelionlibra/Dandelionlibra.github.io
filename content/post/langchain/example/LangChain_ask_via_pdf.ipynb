{
 "cells": [
  {
   "cell_type": "code",
   "execution_count": 2,
   "id": "806ae535-2780-4b3b-a4b1-2fd16ffc7848",
   "metadata": {},
   "outputs": [],
   "source": [
    "from langchain_community.document_loaders import PyPDFLoader\n",
    "from langchain_text_splitters import RecursiveCharacterTextSplitter\n",
    "from langchain_ollama import OllamaEmbeddings\n",
    "from langchain_chroma import Chroma\n",
    "\n",
    "# 使用 ollama 的 embedding 模型\n",
    "embeddings_model = OllamaEmbeddings(\n",
    "    base_url='http://dandelion-ollama-1:11434', \n",
    "    model=\"bge-m3:567m\",\n",
    ")"
   ]
  },
  {
   "cell_type": "code",
   "execution_count": 3,
   "id": "5c8e4921-f0e4-4892-885c-6fb803f40f28",
   "metadata": {},
   "outputs": [],
   "source": [
    "# 載入 PDF 文件\n",
    "loader = PyPDFLoader('./data/PDF_file.pdf')\n",
    "docs = loader.load_and_split()\n",
    "\n",
    "chunk_size = 256\n",
    "chunk_overlap = 128\n",
    "\n",
    "text_splitter = RecursiveCharacterTextSplitter(chunk_size=chunk_size, chunk_overlap=chunk_overlap)\n",
    "documents = text_splitter.split_documents(docs)\n",
    "\n",
    "# 將文檔寫入 ChromaDB\n",
    "db = Chroma.from_documents(\n",
    "    documents,\n",
    "    embedding=embeddings_model,\n",
    "    persist_directory=\"./story-db\" # bge-m3:567m\n",
    ")"
   ]
  },
  {
   "cell_type": "code",
   "execution_count": 9,
   "id": "3563bd34-d99d-4c14-8643-20f39670f14f",
   "metadata": {},
   "outputs": [
    {
     "name": "stdout",
     "output_type": "stream",
     "text": [
      "\n",
      "回答: \n",
      "{'query': '玫瑰是誰？', 'result': '玫瑰是小王子的玫瑰花，還有園中其他五千朵玫瑰花（但小王子的玫瑰花是獨一無二的）。'}\n"
     ]
    }
   ],
   "source": [
    "# Setup the Retriever\n",
    "from langchain_ollama import OllamaLLM\n",
    "from langchain.chains import RetrievalQA\n",
    "\n",
    "ollama_llm = OllamaLLM(\n",
    "    base_url='http://dandelion-ollama-1:11434', \n",
    "    model=\"llama3.1:8b\",\n",
    "    temperature=0.0,\n",
    "    num_predict=512\n",
    ")\n",
    "\n",
    "# 建立 RetrievalQA Chain\n",
    "qa_chain = RetrievalQA.from_chain_type(\n",
    "    llm=ollama_llm,\n",
    "    retriever=db.as_retriever(),\n",
    ")\n",
    "\n",
    "# 提問\n",
    "query = \"玫瑰是誰？\"\n",
    "result = qa_chain.invoke(query)\n",
    "# print('提問:', query)\n",
    "print(\"\\n回答: \")\n",
    "print(result)\n"
   ]
  },
  {
   "cell_type": "code",
   "execution_count": 10,
   "id": "f204fcb6-8174-4de4-b559-1fdab01ad8aa",
   "metadata": {},
   "outputs": [
    {
     "data": {
      "text/plain": [
       "{'query': '最令你印象深刻的小王子的經歷是？',\n",
       " 'result': '最令我印象深刻的小王子的經歷是他無意中吐露的一些話逐漸使我搞清了他的來歷。'}"
      ]
     },
     "execution_count": 10,
     "metadata": {},
     "output_type": "execute_result"
    }
   ],
   "source": [
    "qa_chain.invoke('最令你印象深刻的小王子的經歷是？')"
   ]
  },
  {
   "cell_type": "code",
   "execution_count": 11,
   "id": "9a4003fb-b79c-4291-acde-3426a0b31d25",
   "metadata": {},
   "outputs": [
    {
     "data": {
      "text/plain": [
       "{'query': '小王子的來歷是什？', 'result': '小王子所來自的那個星球是小行星B612。'}"
      ]
     },
     "execution_count": 11,
     "metadata": {},
     "output_type": "execute_result"
    }
   ],
   "source": [
    "qa_chain.invoke('小王子的來歷是什？')"
   ]
  },
  {
   "cell_type": "code",
   "execution_count": 12,
   "id": "f4078804-ce6a-480a-8480-9d51b64cb5ee",
   "metadata": {},
   "outputs": [
    {
     "data": {
      "text/plain": [
       "{'query': '你是哪個模型？', 'result': '我不知道。'}"
      ]
     },
     "execution_count": 12,
     "metadata": {},
     "output_type": "execute_result"
    }
   ],
   "source": [
    "qa_chain.invoke('你是哪個模型？')"
   ]
  },
  {
   "cell_type": "code",
   "execution_count": 15,
   "id": "84677bd7-c358-4edb-8d34-8c24c7b0fa14",
   "metadata": {},
   "outputs": [
    {
     "data": {
      "text/plain": [
       "{'query': '誰喜歡喝酒？他出現在文章中哪裡？', 'result': '酒鬼。它出現在第十二段（XII）中。'}"
      ]
     },
     "execution_count": 15,
     "metadata": {},
     "output_type": "execute_result"
    }
   ],
   "source": [
    "qa_chain.invoke('誰喜歡喝酒？他出現在文章中哪裡？')"
   ]
  },
  {
   "cell_type": "code",
   "execution_count": null,
   "id": "fc0d39f1-f543-4f17-a786-6354b7b8851a",
   "metadata": {},
   "outputs": [],
   "source": []
  }
 ],
 "metadata": {
  "kernelspec": {
   "display_name": "Python 3 (ipykernel)",
   "language": "python",
   "name": "python3"
  },
  "language_info": {
   "codemirror_mode": {
    "name": "ipython",
    "version": 3
   },
   "file_extension": ".py",
   "mimetype": "text/x-python",
   "name": "python",
   "nbconvert_exporter": "python",
   "pygments_lexer": "ipython3",
   "version": "3.10.14"
  }
 },
 "nbformat": 4,
 "nbformat_minor": 5
}
